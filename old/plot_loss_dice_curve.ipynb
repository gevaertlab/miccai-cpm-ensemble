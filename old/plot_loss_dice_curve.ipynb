{
 "cells": [
  {
   "cell_type": "markdown",
   "metadata": {},
   "source": [
    "# Set Up"
   ]
  },
  {
   "cell_type": "code",
   "execution_count": 1,
   "metadata": {
    "collapsed": true
   },
   "outputs": [],
   "source": [
    "import numpy as np\n",
    "import matplotlib.pyplot as plt\n",
    "# import os\n",
    "# import shutil\n",
    "# from random import shufflezs\n",
    "# from util import im_path_to_arr, arr_to_im_path"
   ]
  },
  {
   "cell_type": "markdown",
   "metadata": {},
   "source": [
    "## 1. Plot loss and accuracy curve "
   ]
  },
  {
   "cell_type": "markdown",
   "metadata": {
    "collapsed": true
   },
   "source": [
    "### 1.1 show results for training / fine-tune"
   ]
  },
  {
   "cell_type": "code",
   "execution_count": null,
   "metadata": {
    "collapsed": true
   },
   "outputs": [],
   "source": [
    "# Trainig on Brats-16 with 0.75 training and 0.25 validation\n",
    "path = '/share/PI/ogevaert/raghav/results/train_results.npz'"
   ]
  },
  {
   "cell_type": "code",
   "execution_count": 30,
   "metadata": {
    "collapsed": true
   },
   "outputs": [],
   "source": [
    "# Trainig on Brats-16 with 0.8 training and 0.2 validation\n",
    "path = '/share/PI/ogevaert/shirley/brats_hgg/result/fcn_train_patch48_results.npz'"
   ]
  },
  {
   "cell_type": "code",
   "execution_count": 21,
   "metadata": {
    "collapsed": true
   },
   "outputs": [],
   "source": [
    "# # Fine tune on Rembrandt with 0.15 training and 0.85 validation\n",
    "# path = '/share/PI/ogevaert/raghav/results/prime_015_results.npz'"
   ]
  },
  {
   "cell_type": "code",
   "execution_count": 2,
   "metadata": {
    "collapsed": true
   },
   "outputs": [],
   "source": [
    "# Fine tune on Rembrandt with 0.2 training and 0.8 validation\n",
    "path = '/share/PI/ogevaert/shirley/rembrandt/fine_tune_result/fine_tune_02/fine_tune_results.npz'"
   ]
  },
  {
   "cell_type": "code",
   "execution_count": 29,
   "metadata": {
    "collapsed": true
   },
   "outputs": [],
   "source": [
    "# Fine tune on Rembrandt with 0.5 training and 0.5 validation\n",
    "path = '/share/PI/ogevaert/shirley/rembrandt/fine_tune_result/fine_tune_05/fine_tune_results.npz'"
   ]
  },
  {
   "cell_type": "code",
   "execution_count": 31,
   "metadata": {},
   "outputs": [
    {
     "name": "stdout",
     "output_type": "stream",
     "text": [
      "['val_fdices', 'val_bdices', 'train_losses', 'train_bdices', 'train_ex_paths', 'val_ex_paths']\n",
      "Total Epoches = 7\n",
      "Total Training Examples = 176\n",
      "Best Segmentation Dice Score = 0.850925\n",
      "[ 0.11779911  0.09015556  0.08514684  0.08422595  0.07951134  0.07759853\n",
      "  0.07579618]\n"
     ]
    },
    {
     "data": {
      "image/png": "[encoded data removed]",
      "text/plain": [
       "<matplotlib.figure.Figure at 0x533d050>"
      ]
     },
     "metadata": {},
     "output_type": "display_data"
    },
    {
     "name": "stdout",
     "output_type": "stream",
     "text": [
      "[ 0.07773883  0.81849815  0.85092515]\n"
     ]
    },
    {
     "data": {
      "image/png": "[encoded data removed]",
      "text/plain": [
       "<matplotlib.figure.Figure at 0x55c9810>"
      ]
     },
     "metadata": {},
     "output_type": "display_data"
    }
   ],
   "source": [
    "tmp = np.load(path)\n",
    "print tmp.keys()\n",
    "\n",
    "# loss per mini-batch / iteration (batchsize = 50)\n",
    "train_loss = tmp['train_losses']\n",
    "# training dice score per epoch (balanced sampling)\n",
    "train_acc = tmp['train_bdices']\n",
    "# validation dice score per epoch (balanced sampling)\n",
    "val_acc = tmp['val_bdices']\n",
    "# test dice score per epoch for final segmentation\n",
    "val_f = tmp['val_fdices']\n",
    "\n",
    "num_batch_per_ex = 20\n",
    "epoches = train_acc.shape[0]\n",
    "num_train = train_loss.shape[0] / num_batch_per_ex / epoches\n",
    "\n",
    "print('Total Epoches = %d' %(epoches))\n",
    "print('Total Training Examples = %d' %(num_train))\n",
    "print('Best Segmentation Dice Score = %5f' %(np.max(val_f)))\n",
    "\n",
    "# each row contains 20 batches randomly sampled from the same example\n",
    "train_loss_reshape = train_loss.reshape(-1, num_batch_per_ex)\n",
    "# average loss per example\n",
    "train_loss_example = np.mean(train_loss_reshape, axis=1)\n",
    "# each row contains all examples in training set\n",
    "train_loss_example = train_loss_example.reshape(epoches,-1)\n",
    "# average loss per epoch / across all examples\n",
    "train_loss_epoch = np.mean(train_loss_example, axis=1)\n",
    "print train_loss_epoch\n",
    "## plot loss curve\n",
    "plt.title('Training loss per epoch')\n",
    "plt.xlabel('epoch')\n",
    "plt.ylabel('loss')\n",
    "plt.plot(train_loss_epoch)\n",
    "# plt.legend('train_loss')\n",
    "plt.show()\n",
    "\n",
    "# ## plot training and validation accuracy with balanced dice score\n",
    "# tacc, = plt.plot(train_acc)\n",
    "# vacc, = plt.plot(val_acc)\n",
    "# plt.legend([tacc, vacc], ['train_acc', 'val_acc'])\n",
    "# plt.title('Training / Validation accuracy per epoch')\n",
    "# plt.xlabel('epoch')\n",
    "# plt.ylabel('dice score')\n",
    "# # plt.axis([1,20,0.91,0.95])\n",
    "# plt.show()\n",
    "\n",
    "\n",
    "## plot test accuracy for volume segmentation\n",
    "print(val_f)\n",
    "plt.plot(val_f)\n",
    "# plt.legend(['test_acc'])\n",
    "plt.title('Test accuracy per epoch')\n",
    "plt.xlabel('epoch')\n",
    "plt.ylabel('dice score')\n",
    "plt.plot(val_f)\n",
    "plt.show()"
   ]
  },
  {
   "cell_type": "markdown",
   "metadata": {},
   "source": [
    "### 1.2 show results for evaluation on test dataset"
   ]
  },
  {
   "cell_type": "code",
   "execution_count": 13,
   "metadata": {
    "collapsed": true
   },
   "outputs": [],
   "source": [
    "# evaluation with Brats-16 checkpoint on Brats-16 (also include training data)\n",
    "# test_result = '/share/PI/ogevaert/shirley/brats/test_result/dice_results.npz\n",
    "test_result = '/share/PI/ogevaert/shirley/brats_hgg/bn_eval/dice_results.npz'"
   ]
  },
  {
   "cell_type": "code",
   "execution_count": 4,
   "metadata": {
    "collapsed": true
   },
   "outputs": [],
   "source": [
    "# evaluation with fine-tune checkpoint on Rembrandt\n",
    "test_result = '/share/PI/ogevaert/shirley/rembrandt/fine_tune_result/fine_tune_02/eval/dice_results.npz'"
   ]
  },
  {
   "cell_type": "code",
   "execution_count": 5,
   "metadata": {
    "collapsed": true
   },
   "outputs": [],
   "source": [
    "# evaluation with Brats-16 checkpoint on Rembrandt\n",
    "test_result = '/share/PI/ogevaert/shirley/rembrandt/test_result/dice_results.npz'"
   ]
  },
  {
   "cell_type": "code",
   "execution_count": 14,
   "metadata": {},
   "outputs": [
    {
     "name": "stdout",
     "output_type": "stream",
     "text": [
      "['val_ex_paths', 'dices']\n",
      "Average dice score for segmentation evaluation across 44 examples = 0.859565\n"
     ]
    },
    {
     "data": {
      "image/png": "[encoded data removed]",
      "text/plain": [
       "<matplotlib.figure.Figure at 0x4632b90>"
      ]
     },
     "metadata": {},
     "output_type": "display_data"
    }
   ],
   "source": [
    "result = np.load(test_result)\n",
    "print result.keys()\n",
    "dices = result['dices']\n",
    "# print dices\n",
    "print('Average dice score for segmentation evaluation across %d examples = %5f' %(dices.shape[0], np.mean(dices)))\n",
    "\n",
    "# plot histogram of dice score on all examples\n",
    "plt.figure()\n",
    "plt.hist([dices])\n",
    "plt.xlim(0,1)\n",
    "plt.title('Evaluation on Rembrandt dataset')\n",
    "plt.xlabel('dice score')\n",
    "plt.ylabel('number of samples')\n",
    "plt.show()"
   ]
  },
  {
   "cell_type": "markdown",
   "metadata": {},
   "source": [
    "### 1.3 select segmentation samples "
   ]
  },
  {
   "cell_type": "code",
   "execution_count": 13,
   "metadata": {
    "collapsed": true
   },
   "outputs": [],
   "source": [
    "cnn = '/share/PI/ogevaert/shirley/brats_hgg/cnn_eval/dice_results.npz'\n",
    "fcn = '/share/PI/ogevaert/shirley/brats_hgg/fcn_eval/dice_results.npz'\n",
    "result_1 = np.load(cnn)\n",
    "dice_1 = result_1['dices']\n",
    "\n",
    "result_2 = np.load(fcn)\n",
    "dice_2 = result_2['dices']"
   ]
  },
  {
   "cell_type": "code",
   "execution_count": 17,
   "metadata": {
    "collapsed": true
   },
   "outputs": [],
   "source": [
    "original = '/share/PI/ogevaert/shirley/rembrandt/fine_tune_result/fine_tune_02/fcn/fcn_test_result/dice_results.npz'\n",
    "finetune = '/share/PI/ogevaert/shirley/rembrandt/fine_tune_result/fine_tune_02/fcn/eval/dice_results.npz'\n",
    "result_1 = np.load(original)\n",
    "dice_1 = result_1['dices']\n",
    "\n",
    "result_2 = np.load(finetune)\n",
    "dice_2 = result_2['dices']"
   ]
  },
  {
   "cell_type": "code",
   "execution_count": 19,
   "metadata": {
    "collapsed": true
   },
   "outputs": [],
   "source": [
    "original = '/share/PI/ogevaert/shirley/rembrandt/fine_tune_result/fine_tune_02/cnn/cnn_test_result/dice_results.npz'\n",
    "finetune = '/share/PI/ogevaert/shirley/rembrandt/fine_tune_result/fine_tune_02/cnn/eval/dice_results.npz'\n",
    "result_1 = np.load(original)\n",
    "dice_1 = result_1['dices']\n",
    "\n",
    "result_2 = np.load(finetune)\n",
    "dice_2 = result_2['dices']"
   ]
  },
  {
   "cell_type": "code",
   "execution_count": 20,
   "metadata": {},
   "outputs": [
    {
     "name": "stdout",
     "output_type": "stream",
     "text": [
      "/share/PI/ogevaert/shirley/rembrandt/fine_tune_result/fine_tune_02/test/HF1551=\n",
      "(0.75050641458473999, 0.79851293329144413, 0.048006518706704138)\n",
      "/share/PI/ogevaert/shirley/rembrandt/fine_tune_result/fine_tune_02/test/HF0986=\n",
      "(0.088277414075286414, 0.34766014291469649, 0.25938272883941005)\n",
      "/share/PI/ogevaert/shirley/rembrandt/fine_tune_result/fine_tune_02/test/HF1191=\n",
      "(0.84997936442426747, 0.6936656282450675, -0.15631373617919997)\n",
      "/share/PI/ogevaert/shirley/rembrandt/fine_tune_result/fine_tune_02/test/HF1381=\n",
      "(0.68644501278772374, 0.50369468834217157, -0.18275032444555217)\n",
      "/share/PI/ogevaert/shirley/rembrandt/fine_tune_result/fine_tune_02/test/HF1097=\n",
      "(0.06853016309687561, 0.14654180019290003, 0.078011637096024419)\n",
      "/share/PI/ogevaert/shirley/rembrandt/fine_tune_result/fine_tune_02/test/HF1185=\n",
      "(0.37818406710216074, 0.42635333613092741, 0.04816926902876667)\n",
      "/share/PI/ogevaert/shirley/rembrandt/fine_tune_result/fine_tune_02/test/HF1511=\n",
      "(0.58078316370536487, 0.66467153712994753, 0.083888373424582663)\n",
      "/share/PI/ogevaert/shirley/rembrandt/fine_tune_result/fine_tune_02/test/HF0855=\n",
      "(0.068940150281120272, 0.38258129852593675, 0.31364114824481648)\n",
      "/share/PI/ogevaert/shirley/rembrandt/fine_tune_result/fine_tune_02/test/HF1122=\n",
      "(0.19767149677527432, 0.53868466558821892, 0.34101316881294463)\n",
      "/share/PI/ogevaert/shirley/rembrandt/fine_tune_result/fine_tune_02/test/HF0931=\n",
      "(0.35159932926250514, 0.59677864703175332, 0.24517931776924817)\n",
      "/share/PI/ogevaert/shirley/rembrandt/fine_tune_result/fine_tune_02/test/HF0990=\n",
      "(0.46720335619933101, 0.70877019538465535, 0.24156683918532434)\n",
      "/share/PI/ogevaert/shirley/rembrandt/fine_tune_result/fine_tune_02/test/HF1568=\n",
      "(0.63612565445026181, 0.78950150150150156, 0.15337584705123974)\n",
      "/share/PI/ogevaert/shirley/rembrandt/fine_tune_result/fine_tune_02/test/HF1292=\n",
      "(0.50943365929636941, 0.58895586610586703, 0.07952220680949762)\n",
      "/share/PI/ogevaert/shirley/rembrandt/fine_tune_result/fine_tune_02/test/HF1059=\n",
      "(0.28014879177669877, 0.55003446052602323, 0.26988566874932446)\n",
      "/share/PI/ogevaert/shirley/rembrandt/fine_tune_result/fine_tune_02/test/HF1242=\n",
      "(0.49383799104167897, 0.68472559903359487, 0.1908876079919159)\n",
      "/share/PI/ogevaert/shirley/rembrandt/fine_tune_result/fine_tune_02/test/HF1398=\n",
      "(0.096231042484630533, 0.43233026424133542, 0.33609922175670487)\n",
      "/share/PI/ogevaert/shirley/rembrandt/fine_tune_result/fine_tune_02/test/HF1613=\n",
      "(0.72156410902675261, 0.66267334640238151, -0.058890762624371096)\n",
      "/share/PI/ogevaert/shirley/rembrandt/fine_tune_result/fine_tune_02/test/HF1280=\n",
      "(0.33914817795148866, 0.57071503680336488, 0.23156685885187622)\n",
      "/share/PI/ogevaert/shirley/rembrandt/fine_tune_result/fine_tune_02/test/HF1235=\n",
      "(0.59628678649022315, 0.44462492616656824, -0.15166186032365492)\n",
      "/share/PI/ogevaert/shirley/rembrandt/fine_tune_result/fine_tune_02/test/HF1232=\n",
      "(0.029871977240398292, 0.12029448534518683, 0.090422508104788538)\n",
      "/share/PI/ogevaert/shirley/rembrandt/fine_tune_result/fine_tune_02/test/HF1058=\n",
      "(0.19300583612885439, 0.2679236407824076, 0.074917804653553216)\n",
      "/share/PI/ogevaert/shirley/rembrandt/fine_tune_result/fine_tune_02/test/HF1560=\n",
      "(0.13214901431676787, 0.2854265734265734, 0.15327755910980553)\n",
      "/share/PI/ogevaert/shirley/rembrandt/fine_tune_result/fine_tune_02/test/HF1071=\n",
      "(0.41088394187779431, 0.44309475860158337, 0.03221081672378906)\n",
      "/share/PI/ogevaert/shirley/rembrandt/fine_tune_result/fine_tune_02/test/HF0920=\n",
      "(0.49074056378404207, 0.70422634836427944, 0.21348578458023737)\n",
      "/share/PI/ogevaert/shirley/rembrandt/fine_tune_result/fine_tune_02/test/HF1000=\n",
      "(0.5719057845042097, 0.65049643499700138, 0.07859065049279168)\n",
      "/share/PI/ogevaert/shirley/rembrandt/fine_tune_result/fine_tune_02/test/HF1246=\n",
      "(0.3854417890813418, 0.37794031448303983, -0.0075014745983019715)\n",
      "/share/PI/ogevaert/shirley/rembrandt/fine_tune_result/fine_tune_02/test/HF0835=\n",
      "(0.53063652587745391, 0.50093907294718654, -0.029697452930267376)\n",
      "/share/PI/ogevaert/shirley/rembrandt/fine_tune_result/fine_tune_02/test/HF1433=\n",
      "(0.51233458103687113, 0.57059151454767576, 0.058256933510804632)\n",
      "/share/PI/ogevaert/shirley/rembrandt/fine_tune_result/fine_tune_02/test/HF1150=\n",
      "(0.23546602002114034, 0.58406926406926407, 0.34860324404812371)\n",
      "/share/PI/ogevaert/shirley/rembrandt/fine_tune_result/fine_tune_02/test/HF1334=\n",
      "(0.17002014775016791, 0.21979818685408201, 0.049778039103914096)\n",
      "/share/PI/ogevaert/shirley/rembrandt/fine_tune_result/fine_tune_02/test/HF1139=\n",
      "(0.18149414894314056, 0.52153026081997056, 0.34003611187683003)\n",
      "/share/PI/ogevaert/shirley/rembrandt/fine_tune_result/fine_tune_02/test/HF1409=\n",
      "(0.23350641682440998, 0.45696644450214952, 0.22346002767773954)\n",
      "/share/PI/ogevaert/shirley/rembrandt/fine_tune_result/fine_tune_02/test/HF1357=\n",
      "(0.19411048309027887, 0.6490617267730846, 0.45495124368280571)\n",
      "/share/PI/ogevaert/shirley/rembrandt/fine_tune_result/fine_tune_02/test/HF1517=\n",
      "(0.36720489977728288, 0.31730461669687599, -0.049900283080406893)\n",
      "/share/PI/ogevaert/shirley/rembrandt/fine_tune_result/fine_tune_02/test/HF1490=\n",
      "(0.3385404393928893, 0.457958590968709, 0.1194181515758197)\n",
      "/share/PI/ogevaert/shirley/rembrandt/fine_tune_result/fine_tune_02/test/HF1463=\n",
      "(0.78560528413620312, 0.8864354947390245, 0.10083021060282138)\n",
      "/share/PI/ogevaert/shirley/rembrandt/fine_tune_result/fine_tune_02/test/HF1269=\n",
      "(0.5324644579289034, 0.69314414813876402, 0.16067969020986062)\n",
      "/share/PI/ogevaert/shirley/rembrandt/fine_tune_result/fine_tune_02/test/HF1702=\n",
      "(0.23381588017797833, 0.44119775469889888, 0.20738187452092055)\n",
      "/share/PI/ogevaert/shirley/rembrandt/fine_tune_result/fine_tune_02/test/HF1489=\n",
      "(0.71163439487434099, 0.8006307617661329, 0.088996366891791912)\n",
      "/share/PI/ogevaert/shirley/rembrandt/fine_tune_result/fine_tune_02/test/HF1077=\n",
      "(0.26785993570249372, 0.57055957294931881, 0.30269963724682508)\n",
      "/share/PI/ogevaert/shirley/rembrandt/fine_tune_result/fine_tune_02/test/HF1458=\n",
      "(0.35196396516930351, 0.32183364839319473, -0.030130316776108779)\n",
      "/share/PI/ogevaert/shirley/rembrandt/fine_tune_result/fine_tune_02/test/HF1078=\n",
      "(0.18105033717049249, 0.56307448750464439, 0.38202415033415194)\n",
      "/share/PI/ogevaert/shirley/rembrandt/fine_tune_result/fine_tune_02/test/HF1606=\n",
      "(0.63890672292029715, 0.66479248353924691, 0.02588576061894976)\n",
      "/share/PI/ogevaert/shirley/rembrandt/fine_tune_result/fine_tune_02/test/HF0960=\n",
      "(0.22186284046692606, 0.43941296499764559, 0.21755012453071954)\n",
      "/share/PI/ogevaert/shirley/rembrandt/fine_tune_result/fine_tune_02/test/HF1628=\n",
      "(0.025423203323618776, 0.68192676578600209, 0.65650356246238328)\n",
      "/share/PI/ogevaert/shirley/rembrandt/fine_tune_result/fine_tune_02/test/HF0966=\n",
      "(0.34736257634647416, 0.27833345326329423, -0.069029123083179933)\n"
     ]
    }
   ],
   "source": [
    "diff = {}\n",
    "for id in range(len(dice_1)):\n",
    "    print(result_1['val_ex_paths'][id])\n",
    "    print(dice_1[id], dice_2[id], dice_2[id] - dice_1[id])"
   ]
  },
  {
   "cell_type": "code",
   "execution_count": null,
   "metadata": {
    "collapsed": true
   },
   "outputs": [],
   "source": []
  },
  {
   "cell_type": "markdown",
   "metadata": {},
   "source": [
    "### 1.3 show segmentation result for each example"
   ]
  },
  {
   "cell_type": "code",
   "execution_count": 20,
   "metadata": {
    "collapsed": true
   },
   "outputs": [],
   "source": [
    "# testing result for rembrant dataset\n",
    "# best test result: #1463 and #1191\n",
    "test_result_ex = '/share/PI/ogevaert/shirley/rembrandt/test_result/HF1191.npz'"
   ]
  },
  {
   "cell_type": "code",
   "execution_count": 19,
   "metadata": {
    "collapsed": true
   },
   "outputs": [],
   "source": [
    "# testing result for brats dataset\n",
    "test_result_ex = '/share/PI/ogevaert/shirley/brats/test_result/pat374_0801.npz'"
   ]
  },
  {
   "cell_type": "code",
   "execution_count": 21,
   "metadata": {},
   "outputs": [
    {
     "name": "stdout",
     "output_type": "stream",
     "text": [
      "dice score = 0.833929\n",
      "volume size = (53, 256, 256)\n",
      "(53, 256, 256)\n",
      "(array([25, 25, 25, ..., 39, 39, 39]), array([125, 125, 125, ..., 132, 132, 133]), array([154, 155, 156, ..., 151, 152, 151]))\n",
      "(array([10, 10, 10, ..., 39, 39, 39]), array([140, 140, 140, ..., 128, 128, 128]), array([128, 129, 130, ..., 162, 163, 164]))\n",
      "[  4.75473917e-06   9.99995232e-01   4.75473917e-06   9.99995232e-01\n",
      "   4.75473917e-06   9.99995232e-01   4.75473917e-06   9.99995232e-01\n",
      "   4.75473462e-06   9.99995232e-01   4.75473917e-06   9.99995232e-01\n",
      "   4.75473917e-06   9.99995232e-01   4.75473917e-06   9.99995232e-01\n",
      "   4.75473917e-06   9.99995232e-01   4.75473917e-06   9.99995232e-01\n",
      "   4.75473917e-06   9.99995232e-01   4.75473917e-06   9.99995232e-01\n",
      "   4.75473917e-06   9.99995232e-01   4.75473462e-06   9.99995232e-01\n",
      "   4.75473917e-06   9.99995232e-01   4.75473917e-06   9.99995232e-01\n",
      "   4.75473917e-06   9.99995232e-01   4.75473917e-06   9.99995232e-01\n",
      "   4.75473917e-06   9.99995232e-01   4.75473917e-06   9.99995232e-01\n",
      "   4.75473917e-06   9.99995232e-01   4.75473917e-06   9.99995232e-01\n",
      "   4.75473462e-06   9.99995232e-01   4.75473917e-06   9.99995232e-01\n",
      "   4.75473917e-06]\n"
     ]
    }
   ],
   "source": [
    "result_ex = np.load(test_result_ex)\n",
    "# print result_ex.keys()\n",
    "\n",
    "# groudtruth for segmentation\n",
    "y = result_ex['y']\n",
    "# prediction for segmentation\n",
    "pred = result_ex['pred']\n",
    "# probablity for binary classification (softmax function)\n",
    "prob = result_ex['prob']\n",
    "# accuracy by metric dice score\n",
    "dice = result_ex['dice']\n",
    "\n",
    "print('dice score = %5f' %(dice))\n",
    "print('volume size = {}' .format(y.shape))\n",
    "\n",
    "print pred.shape\n",
    "print np.where(y == 1)\n",
    "print np.where(pred == 1)\n",
    "print prob[np.where(prob>0)][1:50]"
   ]
  },
  {
   "cell_type": "code",
   "execution_count": null,
   "metadata": {
    "collapsed": true
   },
   "outputs": [],
   "source": []
  }
 ],
 "metadata": {
  "kernelspec": {
   "display_name": "Python 2",
   "language": "python",
   "name": "python2"
  },
  "language_info": {
   "codemirror_mode": {
    "name": "ipython",
    "version": 2
   },
   "file_extension": ".py",
   "mimetype": "text/x-python",
   "name": "python",
   "nbconvert_exporter": "python",
   "pygments_lexer": "ipython2",
   "version": "2.7.5"
  }
 },
 "nbformat": 4,
 "nbformat_minor": 2
}
