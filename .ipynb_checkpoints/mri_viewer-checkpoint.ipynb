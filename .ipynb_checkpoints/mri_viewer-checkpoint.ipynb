{
 "cells": [
  {
   "cell_type": "code",
   "execution_count": null,
   "metadata": {},
   "outputs": [],
   "source": [
    "%matplotlib notebook\n",
    "import os\n",
    "\n",
    "import numpy as np\n",
    "import tensorflow as tf\n",
    "import matplotlib.pyplot as plt\n",
    "\n",
    "from utils.mri_viewer import MRIViewer\n",
    "from utils.data_utils import im_path_to_arr\n",
    "from utils.config import Config\n",
    "from utils.dice_score import dice_score\n",
    "from utils.data_utils import resize_data_to_original_size\n",
    "from models.fcn_concat import FCN_Concat\n",
    "from models.fcn_concat_v2 import FCN_Concat_v2"
   ]
  },
  {
   "cell_type": "code",
   "execution_count": null,
   "metadata": {},
   "outputs": [],
   "source": [
    "config_path = 'config_files/fcn_train_concat_2017_ablation_v3.cfg'\n",
    "config = Config(config_path)\n",
    "# model = FCN_Concat(config)\n",
    "model = FCN_Concat_v2(config)"
   ]
  },
  {
   "cell_type": "markdown",
   "metadata": {},
   "source": [
    "# for BraTS\n",
    "ex_path = '/local-scratch/romain_scratch/brats2017/train/'\n",
    "patient = 'Brats17_2013_10_1'\n",
    "patient_path = os.path.join(ex_path, patient)\n",
    "label_path = os.path.join(patient_path, patient + '_seg.nii')\n",
    "label = im_path_to_arr(label_path)\n",
    "flair_path = os.path.join(patient_path, patient + '_flair.nii')\n",
    "flair = im_path_to_arr(flair_path)\n",
    "t1post_path = os.path.join(patient_path, patient + '_t1ce.nii')\n",
    "t1post = im_path_to_arr(t1post_path)"
   ]
  },
  {
   "cell_type": "markdown",
   "metadata": {},
   "source": [
    "# for Rembrandt\n",
    "ex_path = '/local-scratch/romain_scratch/rembrandt/train/'\n",
    "patient = 'HF1398='\n",
    "patient_path = os.path.join(ex_path, patient)\n",
    "label_path = os.path.join(patient_path, 'seg.nii')\n",
    "label = im_path_to_arr(label_path)\n",
    "flair_path = os.path.join(patient_path, 'flair.nii')\n",
    "flair = im_path_to_arr(flair_path)\n",
    "t1post_path = os.path.join(patient_path, 't1c.nii')\n",
    "t1post = im_path_to_arr(t1post_path)"
   ]
  },
  {
   "cell_type": "markdown",
   "metadata": {},
   "source": [
    "### select a patient id between 1 and 193"
   ]
  },
  {
   "cell_type": "code",
   "execution_count": null,
   "metadata": {},
   "outputs": [],
   "source": [
    "patient_id = 10"
   ]
  },
  {
   "cell_type": "code",
   "execution_count": null,
   "metadata": {},
   "outputs": [],
   "source": [
    "# for RTOG\n",
    "ex_path = '/local-scratch/romain_scratch/rtog/'\n",
    "patient = os.listdir(ex_path)[patient_id - 1]\n",
    "patient_path = os.path.join(ex_path, patient)\n",
    "flair_path = os.path.join(patient_path, 'flair.nii')\n",
    "flair = im_path_to_arr(flair_path)\n",
    "t1post_path = os.path.join(patient_path, 't1c.nii')\n",
    "t1post = im_path_to_arr(t1post_path)\n",
    "print('shape of this patient is:', t1post.shape)"
   ]
  },
  {
   "cell_type": "code",
   "execution_count": null,
   "metadata": {},
   "outputs": [],
   "source": [
    "import gzip\n",
    "\n",
    "def j(path, fname):\n",
    "    return os.path.join(path, fname)\n",
    "\n",
    "patient_path = '/home/romains/rtog_ex2/post'\n",
    "\n",
    "with gzip.open(j(patient_path, 'flair.nii.gz'), 'rb') as fgz:\n",
    "            with open(j(patient_path, 'flair.nii'), 'wb') as f:\n",
    "                f.write(fgz.read())\n",
    "                \n",
    "with gzip.open(j(patient_path, 't1c.nii.gz'), 'rb') as fgz:\n",
    "            with open(j(patient_path, 't1c.nii'), 'wb') as f:\n",
    "                f.write(fgz.read())\n",
    "\n",
    "t1post = im_path_to_arr(j(patient_path, 't1c.nii'))\n",
    "flair = im_path_to_arr(j(patient_path, 'flair.nii'))"
   ]
  },
  {
   "cell_type": "markdown",
   "metadata": {},
   "source": [
    "patient_path = '/home/romains/rtog_patient_post_2'\n",
    "\n",
    "with gzip.open(j(patient_path, 'flair_bcorr_brain.nii.gz'), 'rb') as fgz:\n",
    "            with open(j(patient_path, 'flair.nii'), 'wb') as f:\n",
    "                f.write(fgz.read())\n",
    "                \n",
    "with gzip.open(j(patient_path, 't1_bcorr_brain.nii.gz'), 'rb') as fgz:\n",
    "            with open(j(patient_path, 't1c.nii'), 'wb') as f:\n",
    "                f.write(fgz.read())\n",
    "\n",
    "t1post = im_path_to_arr(j(patient_path, 't1c.nii'))\n",
    "flair = im_path_to_arr(j(patient_path, 'flair.nii'))"
   ]
  },
  {
   "cell_type": "code",
   "execution_count": null,
   "metadata": {},
   "outputs": [],
   "source": [
    "patient_path = patient_path.encode('utf-8')\n",
    "saver = tf.train.Saver()\n",
    "conf = tf.ConfigProto()\n",
    "conf.gpu_options.allow_growth = True\n",
    "with tf.Session() as sess:\n",
    "    saver.restore(sess, config.ckpt_path)\n",
    "    pred = model.run_pred_single_example_v3(sess, patient_path)\n",
    "    pred[pred == 3] = 4\n",
    "patient_path = patient_path.decode('utf-8')"
   ]
  },
  {
   "cell_type": "code",
   "execution_count": null,
   "metadata": {},
   "outputs": [],
   "source": [
    "# for Rembrandt and RTOG\n",
    "# resize to original size\n",
    "original_size = im_path_to_arr(os.path.join(patient_path, 'flair.nii')).shape\n",
    "pred = resize_data_to_original_size(pred, original_size)"
   ]
  },
  {
   "cell_type": "markdown",
   "metadata": {},
   "source": [
    "# for Brats and Rembrandt\n",
    "def get_dice_scores(p, y):\n",
    "    dice_whole = dice_score(y, pred)\n",
    "    fpred_core = (p == 1) + (p == 4)\n",
    "    fy_core = (y == 1) + (y == 4)\n",
    "    dice_core = dice_score(fy_core, fpred_core)\n",
    "    fpred_enhancing = p == 4\n",
    "    fy_enhancing = y == 4\n",
    "    dice_enhancing = dice_score(fy_enhancing, fpred_enhancing)\n",
    "    print('whole: %f ... core: %f ... enhancing: %f ...'%(dice_whole, dice_core, dice_enhancing))\n",
    "get_dice_scores(pred, label)"
   ]
  },
  {
   "cell_type": "markdown",
   "metadata": {},
   "source": [
    "# for Brats and Rembrandt\n",
    "flair_pred = np.array(flair)\n",
    "flair_pred[pred == 1] = 1000\n",
    "flair_pred[pred == 2] = 2000\n",
    "flair_pred[pred == 4] = 4000\n",
    "flair_label = np.array(flair)\n",
    "flair_label[label == 1] = 1000\n",
    "flair_label[label == 2] = 2000\n",
    "flair_label[label == 4] = 4000\n",
    "MRIViewer(flair_pred, flair_label, flair, t1post, cmap=None, title1='prediction', title2='ground truth', title3='flair', title4='t1post')"
   ]
  },
  {
   "cell_type": "code",
   "execution_count": null,
   "metadata": {},
   "outputs": [],
   "source": [
    "# for RTOG\n",
    "flair_pred = np.array(flair)\n",
    "flair_pred[pred == 1] = 1000\n",
    "flair_pred[pred == 2] = 2000\n",
    "flair_pred[pred == 4] = 4000\n",
    "MRIViewer(flair_pred, flair_pred, flair, t1post, cmap=None, title1='prediction', title2='prediction', title3='flair', title4='t1post')"
   ]
  },
  {
   "cell_type": "code",
   "execution_count": null,
   "metadata": {},
   "outputs": [],
   "source": [
    "patient_path"
   ]
  },
  {
   "cell_type": "code",
   "execution_count": null,
   "metadata": {},
   "outputs": [],
   "source": []
  }
 ],
 "metadata": {
  "kernelspec": {
   "display_name": "Python 3",
   "language": "python",
   "name": "python3"
  },
  "language_info": {
   "codemirror_mode": {
    "name": "ipython",
    "version": 3
   },
   "file_extension": ".py",
   "mimetype": "text/x-python",
   "name": "python",
   "nbconvert_exporter": "python",
   "pygments_lexer": "ipython3",
   "version": "3.6.3"
  }
 },
 "nbformat": 4,
 "nbformat_minor": 2
}
