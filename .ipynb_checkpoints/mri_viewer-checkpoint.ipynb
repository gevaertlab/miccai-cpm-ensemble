{
 "cells": [
  {
   "cell_type": "code",
   "execution_count": 19,
   "metadata": {},
   "outputs": [],
   "source": [
    "import os\n",
    "\n",
    "import numpy as np\n",
    "import tensorflow as tf\n",
    "import matplotlib.pyplot as plt\n",
    "\n",
    "from utils.mri_viewer import MRIViewer\n",
    "from utils.data_utils import im_path_to_arr\n",
    "from utils.config import Config\n",
    "from models.fcn_concat import FCN_Concat"
   ]
  },
  {
   "cell_type": "code",
   "execution_count": 18,
   "metadata": {},
   "outputs": [],
   "source": [
    "ex_path = '/local-scratch/romain_scratch/brats2017/val/'\n",
    "patient = 'Brats17_2013_19_1'\n",
    "patient_path = os.path.join(ex_path, patient)\n",
    "label_path = os.path.join(patient_path, patient + '_seg.nii')"
   ]
  },
  {
   "cell_type": "code",
   "execution_count": 10,
   "metadata": {},
   "outputs": [],
   "source": [
    "config_path = 'config_files/fcn_train_concat_2017_v42.cfg'\n",
    "config = Config(config_path)\n",
    "model = FCN_Concat(config)\n",
    "\n",
    "saver = tf.train.Saver()\n",
    "with tf.Session() as sess:\n",
    "    saver.restore(sess, ckpt_path)\n",
    "    fpred = model.run_pred_single_example(sess, patient_path)\n",
    "    fpred[fpred == 3] = 4"
   ]
  }
 ],
 "metadata": {
  "kernelspec": {
   "display_name": "Python 3",
   "language": "python",
   "name": "python3"
  },
  "language_info": {
   "codemirror_mode": {
    "name": "ipython",
    "version": 3
   },
   "file_extension": ".py",
   "mimetype": "text/x-python",
   "name": "python",
   "nbconvert_exporter": "python",
   "pygments_lexer": "ipython3",
   "version": "3.6.3"
  }
 },
 "nbformat": 4,
 "nbformat_minor": 2
}
