{
 "cells": [
  {
   "cell_type": "code",
   "execution_count": 1,
   "metadata": {},
   "outputs": [],
   "source": [
    "%matplotlib notebook\n",
    "import os\n",
    "\n",
    "import numpy as np\n",
    "import tensorflow as tf\n",
    "import matplotlib.pyplot as plt\n",
    "\n",
    "from utils.mri_viewer import MRIViewer\n",
    "from utils.data_utils import im_path_to_arr\n",
    "\n",
    "from multiprocessing import Pool"
   ]
  },
  {
   "cell_type": "code",
   "execution_count": 2,
   "metadata": {},
   "outputs": [],
   "source": [
    "from utils.process_rtog_nii import process_rtog_nii"
   ]
  },
  {
   "cell_type": "code",
   "execution_count": 3,
   "metadata": {},
   "outputs": [],
   "source": [
    "def preprocess_folder(folder):\n",
    "    process_rtog_nii(folder,\n",
    "                     input_t1c_filename='t1c.nii',\n",
    "                     output_t1c_filename='t1c_proc.nii',\n",
    "                     input_flair_filename='flair.nii',\n",
    "                     output_flair_filename='flair_proc.nii')"
   ]
  },
  {
   "cell_type": "code",
   "execution_count": 4,
   "metadata": {},
   "outputs": [
    {
     "data": {
      "text/plain": [
       "1"
      ]
     },
     "execution_count": 4,
     "metadata": {},
     "output_type": "execute_result"
    }
   ],
   "source": [
    "1"
   ]
  },
  {
   "cell_type": "code",
   "execution_count": null,
   "metadata": {
    "scrolled": false
   },
   "outputs": [
    {
     "name": "stdout",
     "output_type": "stream",
     "text": [
      "fsl_anat -i /local-scratch/marcthib_scratch/miccai-radiology/test/cbtc_test_24/t1c.nii -o /local-scratch/marcthib_scratch/miccai-radiology/test/cbtc_test_24/tmp/T1 -t T1 --noreg --nononlinreg --noseg --nosubcortseg\n",
      "fsl_anat -i /local-scratch/marcthib_scratch/miccai-radiology/test/cbtc_test_22/t1c.nii -o /local-scratch/marcthib_scratch/miccai-radiology/test/cbtc_test_22/tmp/T1 -t T1 --noreg --nononlinreg --noseg --nosubcortseg\n",
      "fsl_anat -i /local-scratch/marcthib_scratch/miccai-radiology/test/cbtc_test_23/t1c.nii -o /local-scratch/marcthib_scratch/miccai-radiology/test/cbtc_test_23/tmp/T1 -t T1 --noreg --nononlinreg --noseg --nosubcortseg\n",
      "fsl_anat -i /local-scratch/marcthib_scratch/miccai-radiology/test/cbtc_test_12/t1c.nii -o /local-scratch/marcthib_scratch/miccai-radiology/test/cbtc_test_12/tmp/T1 -t T1 --noreg --nononlinreg --noseg --nosubcortseg\n",
      "fsl_anat -i /local-scratch/marcthib_scratch/miccai-radiology/test/cbtc_test_18/t1c.nii -o /local-scratch/marcthib_scratch/miccai-radiology/test/cbtc_test_18/tmp/T1 -t T1 --noreg --nononlinreg --noseg --nosubcortseg\n",
      "fsl_anat -i /local-scratch/marcthib_scratch/miccai-radiology/test/cbtc_test_2/t1c.nii -o /local-scratch/marcthib_scratch/miccai-radiology/test/cbtc_test_2/tmp/T1 -t T1 --noreg --nononlinreg --noseg --nosubcortseg\n",
      "fsl_anat -i /local-scratch/marcthib_scratch/miccai-radiology/test/cbtc_test_11/t1c.nii -o /local-scratch/marcthib_scratch/miccai-radiology/test/cbtc_test_11/tmp/T1 -t T1 --noreg --nononlinreg --noseg --nosubcortseg\n",
      "fsl_anat -i /local-scratch/marcthib_scratch/miccai-radiology/test/cbtc_test_21/t1c.nii -o /local-scratch/marcthib_scratch/miccai-radiology/test/cbtc_test_21/tmp/T1 -t T1 --noreg --nononlinreg --noseg --nosubcortseg\n",
      "fsl_anat -i /local-scratch/marcthib_scratch/miccai-radiology/test/cbtc_test_21/flair.nii -o /local-scratch/marcthib_scratch/miccai-radiology/test/cbtc_test_21/tmp/T2 -t T2 --noreg --nononlinreg --noseg --nosubcortseg\n",
      "fsl_anat -i /local-scratch/marcthib_scratch/miccai-radiology/test/cbtc_test_12/flair.nii -o /local-scratch/marcthib_scratch/miccai-radiology/test/cbtc_test_12/tmp/T2 -t T2 --noreg --nononlinreg --noseg --nosubcortseg\n",
      "fsl_anat -i /local-scratch/marcthib_scratch/miccai-radiology/test/cbtc_test_11/flair.nii -o /local-scratch/marcthib_scratch/miccai-radiology/test/cbtc_test_11/tmp/T2 -t T2 --noreg --nononlinreg --noseg --nosubcortseg\n",
      "bet /local-scratch/marcthib_scratch/miccai-radiology/test/cbtc_test_21/t1c_fsl_anat.nii /local-scratch/marcthib_scratch/miccai-radiology/test/cbtc_test_21/t1c_bet.nii -f 0.5 -g 0.0\n",
      "bet /local-scratch/marcthib_scratch/miccai-radiology/test/cbtc_test_21/flair_fsl_anat.nii /local-scratch/marcthib_scratch/miccai-radiology/test/cbtc_test_21/flair_bet.nii -f 0.5 -g 0.0\n",
      "bet /local-scratch/marcthib_scratch/miccai-radiology/test/cbtc_test_12/t1c_fsl_anat.nii /local-scratch/marcthib_scratch/miccai-radiology/test/cbtc_test_12/t1c_bet.nii -f 0.5 -g 0.0\n",
      "reg_aladin -ref /local-scratch/marcthib_scratch/miccai-radiology/test/cbtc_test_21/t1c_bet.nii.gz -flo /local-scratch/marcthib_scratch/miccai-radiology/test/cbtc_test_21/flair_bet.nii.gz -aff /home/marcthib/research/miccai-radiology/reg.txt -res /local-scratch/marcthib_scratch/miccai-radiology/test/cbtc_test_21/flair_reg_aladin.nii -rigOnly\n",
      "bet /local-scratch/marcthib_scratch/miccai-radiology/test/cbtc_test_12/flair_fsl_anat.nii /local-scratch/marcthib_scratch/miccai-radiology/test/cbtc_test_12/flair_bet.nii -f 0.5 -g 0.0\n",
      "reg_aladin -ref /local-scratch/marcthib_scratch/miccai-radiology/test/cbtc_test_12/t1c_bet.nii.gz -flo /local-scratch/marcthib_scratch/miccai-radiology/test/cbtc_test_12/flair_bet.nii.gz -aff /home/marcthib/research/miccai-radiology/reg.txt -res /local-scratch/marcthib_scratch/miccai-radiology/test/cbtc_test_12/flair_reg_aladin.nii -rigOnly\n",
      "fsl_anat -i /local-scratch/marcthib_scratch/miccai-radiology/test/cbtc_test_25/t1c.nii -o /local-scratch/marcthib_scratch/miccai-radiology/test/cbtc_test_25/tmp/T1 -t T1 --noreg --nononlinreg --noseg --nosubcortseg\n",
      "fsl_anat -i /local-scratch/marcthib_scratch/miccai-radiology/test/cbtc_test_26/t1c.nii -o /local-scratch/marcthib_scratch/miccai-radiology/test/cbtc_test_26/tmp/T1 -t T1 --noreg --nononlinreg --noseg --nosubcortseg\n",
      "fsl_anat -i /local-scratch/marcthib_scratch/miccai-radiology/test/cbtc_test_18/flair.nii -o /local-scratch/marcthib_scratch/miccai-radiology/test/cbtc_test_18/tmp/T2 -t T2 --noreg --nononlinreg --noseg --nosubcortseg\n",
      "bet /local-scratch/marcthib_scratch/miccai-radiology/test/cbtc_test_11/t1c_fsl_anat.nii /local-scratch/marcthib_scratch/miccai-radiology/test/cbtc_test_11/t1c_bet.nii -f 0.5 -g 0.0\n",
      "bet /local-scratch/marcthib_scratch/miccai-radiology/test/cbtc_test_11/flair_fsl_anat.nii /local-scratch/marcthib_scratch/miccai-radiology/test/cbtc_test_11/flair_bet.nii -f 0.5 -g 0.0\n",
      "reg_aladin -ref /local-scratch/marcthib_scratch/miccai-radiology/test/cbtc_test_11/t1c_bet.nii.gz -flo /local-scratch/marcthib_scratch/miccai-radiology/test/cbtc_test_11/flair_bet.nii.gz -aff /home/marcthib/research/miccai-radiology/reg.txt -res /local-scratch/marcthib_scratch/miccai-radiology/test/cbtc_test_11/flair_reg_aladin.nii -rigOnly\n",
      "fsl_anat -i /local-scratch/marcthib_scratch/miccai-radiology/test/cbtc_test_27/t1c.nii -o /local-scratch/marcthib_scratch/miccai-radiology/test/cbtc_test_27/tmp/T1 -t T1 --noreg --nononlinreg --noseg --nosubcortseg\n",
      "bet /local-scratch/marcthib_scratch/miccai-radiology/test/cbtc_test_18/t1c_fsl_anat.nii /local-scratch/marcthib_scratch/miccai-radiology/test/cbtc_test_18/t1c_bet.nii -f 0.5 -g 0.0\n",
      "bet /local-scratch/marcthib_scratch/miccai-radiology/test/cbtc_test_18/flair_fsl_anat.nii /local-scratch/marcthib_scratch/miccai-radiology/test/cbtc_test_18/flair_bet.nii -f 0.5 -g 0.0\n",
      "reg_aladin -ref /local-scratch/marcthib_scratch/miccai-radiology/test/cbtc_test_18/t1c_bet.nii.gz -flo /local-scratch/marcthib_scratch/miccai-radiology/test/cbtc_test_18/flair_bet.nii.gz -aff /home/marcthib/research/miccai-radiology/reg.txt -res /local-scratch/marcthib_scratch/miccai-radiology/test/cbtc_test_18/flair_reg_aladin.nii -rigOnly\n",
      "fsl_anat -i /local-scratch/marcthib_scratch/miccai-radiology/test/cbtc_test_28/t1c.nii -o /local-scratch/marcthib_scratch/miccai-radiology/test/cbtc_test_28/tmp/T1 -t T1 --noreg --nononlinreg --noseg --nosubcortseg\n",
      "fsl_anat -i /local-scratch/marcthib_scratch/miccai-radiology/test/cbtc_test_25/flair.nii -o /local-scratch/marcthib_scratch/miccai-radiology/test/cbtc_test_25/tmp/T2 -t T2 --noreg --nononlinreg --noseg --nosubcortseg\n",
      "bet /local-scratch/marcthib_scratch/miccai-radiology/test/cbtc_test_25/t1c_fsl_anat.nii /local-scratch/marcthib_scratch/miccai-radiology/test/cbtc_test_25/t1c_bet.nii -f 0.5 -g 0.0\n",
      "bet /local-scratch/marcthib_scratch/miccai-radiology/test/cbtc_test_25/flair_fsl_anat.nii /local-scratch/marcthib_scratch/miccai-radiology/test/cbtc_test_25/flair_bet.nii -f 0.5 -g 0.0\n",
      "reg_aladin -ref /local-scratch/marcthib_scratch/miccai-radiology/test/cbtc_test_25/t1c_bet.nii.gz -flo /local-scratch/marcthib_scratch/miccai-radiology/test/cbtc_test_25/flair_bet.nii.gz -aff /home/marcthib/research/miccai-radiology/reg.txt -res /local-scratch/marcthib_scratch/miccai-radiology/test/cbtc_test_25/flair_reg_aladin.nii -rigOnly\n",
      "fsl_anat -i /local-scratch/marcthib_scratch/miccai-radiology/test/cbtc_test_29/t1c.nii -o /local-scratch/marcthib_scratch/miccai-radiology/test/cbtc_test_29/tmp/T1 -t T1 --noreg --nononlinreg --noseg --nosubcortseg\n",
      "fsl_anat -i /local-scratch/marcthib_scratch/miccai-radiology/test/cbtc_test_24/flair.nii -o /local-scratch/marcthib_scratch/miccai-radiology/test/cbtc_test_24/tmp/T2 -t T2 --noreg --nononlinreg --noseg --nosubcortseg\n",
      "fsl_anat -i /local-scratch/marcthib_scratch/miccai-radiology/test/cbtc_test_26/flair.nii -o /local-scratch/marcthib_scratch/miccai-radiology/test/cbtc_test_26/tmp/T2 -t T2 --noreg --nononlinreg --noseg --nosubcortseg\n",
      "fsl_anat -i /local-scratch/marcthib_scratch/miccai-radiology/test/cbtc_test_22/flair.nii -o /local-scratch/marcthib_scratch/miccai-radiology/test/cbtc_test_22/tmp/T2 -t T2 --noreg --nononlinreg --noseg --nosubcortseg\n",
      "fsl_anat -i /local-scratch/marcthib_scratch/miccai-radiology/test/cbtc_test_28/flair.nii -o /local-scratch/marcthib_scratch/miccai-radiology/test/cbtc_test_28/tmp/T2 -t T2 --noreg --nononlinreg --noseg --nosubcortseg\n"
     ]
    },
    {
     "name": "stdout",
     "output_type": "stream",
     "text": [
      "bet /local-scratch/marcthib_scratch/miccai-radiology/test/cbtc_test_22/t1c_fsl_anat.nii /local-scratch/marcthib_scratch/miccai-radiology/test/cbtc_test_22/t1c_bet.nii -f 0.5 -g 0.0\n",
      "bet /local-scratch/marcthib_scratch/miccai-radiology/test/cbtc_test_22/flair_fsl_anat.nii /local-scratch/marcthib_scratch/miccai-radiology/test/cbtc_test_22/flair_bet.nii -f 0.5 -g 0.0\n",
      "reg_aladin -ref /local-scratch/marcthib_scratch/miccai-radiology/test/cbtc_test_22/t1c_bet.nii.gz -flo /local-scratch/marcthib_scratch/miccai-radiology/test/cbtc_test_22/flair_bet.nii.gz -aff /home/marcthib/research/miccai-radiology/reg.txt -res /local-scratch/marcthib_scratch/miccai-radiology/test/cbtc_test_22/flair_reg_aladin.nii -rigOnly\n",
      "fsl_anat -i /local-scratch/marcthib_scratch/miccai-radiology/test/cbtc_test_30/t1c.nii -o /local-scratch/marcthib_scratch/miccai-radiology/test/cbtc_test_30/tmp/T1 -t T1 --noreg --nononlinreg --noseg --nosubcortseg\n",
      "bet /local-scratch/marcthib_scratch/miccai-radiology/test/cbtc_test_24/t1c_fsl_anat.nii /local-scratch/marcthib_scratch/miccai-radiology/test/cbtc_test_24/t1c_bet.nii -f 0.5 -g 0.0\n",
      "bet /local-scratch/marcthib_scratch/miccai-radiology/test/cbtc_test_24/flair_fsl_anat.nii /local-scratch/marcthib_scratch/miccai-radiology/test/cbtc_test_24/flair_bet.nii -f 0.5 -g 0.0\n",
      "reg_aladin -ref /local-scratch/marcthib_scratch/miccai-radiology/test/cbtc_test_24/t1c_bet.nii.gz -flo /local-scratch/marcthib_scratch/miccai-radiology/test/cbtc_test_24/flair_bet.nii.gz -aff /home/marcthib/research/miccai-radiology/reg.txt -res /local-scratch/marcthib_scratch/miccai-radiology/test/cbtc_test_24/flair_reg_aladin.nii -rigOnly\n",
      "fsl_anat -i /local-scratch/marcthib_scratch/miccai-radiology/test/cbtc_test_31/t1c.nii -o /local-scratch/marcthib_scratch/miccai-radiology/test/cbtc_test_31/tmp/T1 -t T1 --noreg --nononlinreg --noseg --nosubcortseg\n",
      "bet /local-scratch/marcthib_scratch/miccai-radiology/test/cbtc_test_26/t1c_fsl_anat.nii /local-scratch/marcthib_scratch/miccai-radiology/test/cbtc_test_26/t1c_bet.nii -f 0.5 -g 0.0\n",
      "bet /local-scratch/marcthib_scratch/miccai-radiology/test/cbtc_test_26/flair_fsl_anat.nii /local-scratch/marcthib_scratch/miccai-radiology/test/cbtc_test_26/flair_bet.nii -f 0.5 -g 0.0\n",
      "reg_aladin -ref /local-scratch/marcthib_scratch/miccai-radiology/test/cbtc_test_26/t1c_bet.nii.gz -flo /local-scratch/marcthib_scratch/miccai-radiology/test/cbtc_test_26/flair_bet.nii.gz -aff /home/marcthib/research/miccai-radiology/reg.txt -res /local-scratch/marcthib_scratch/miccai-radiology/test/cbtc_test_26/flair_reg_aladin.nii -rigOnly\n",
      "fsl_anat -i /local-scratch/marcthib_scratch/miccai-radiology/test/cbtc_test_32/t1c.nii -o /local-scratch/marcthib_scratch/miccai-radiology/test/cbtc_test_32/tmp/T1 -t T1 --noreg --nononlinreg --noseg --nosubcortseg\n",
      "fsl_anat -i /local-scratch/marcthib_scratch/miccai-radiology/test/cbtc_test_30/flair.nii -o /local-scratch/marcthib_scratch/miccai-radiology/test/cbtc_test_30/tmp/T2 -t T2 --noreg --nononlinreg --noseg --nosubcortseg\n",
      "fsl_anat -i /local-scratch/marcthib_scratch/miccai-radiology/test/cbtc_test_23/flair.nii -o /local-scratch/marcthib_scratch/miccai-radiology/test/cbtc_test_23/tmp/T2 -t T2 --noreg --nononlinreg --noseg --nosubcortseg\n",
      "fsl_anat -i /local-scratch/marcthib_scratch/miccai-radiology/test/cbtc_test_27/flair.nii -o /local-scratch/marcthib_scratch/miccai-radiology/test/cbtc_test_27/tmp/T2 -t T2 --noreg --nononlinreg --noseg --nosubcortseg\n",
      "fsl_anat -i /local-scratch/marcthib_scratch/miccai-radiology/test/cbtc_test_2/flair.nii -o /local-scratch/marcthib_scratch/miccai-radiology/test/cbtc_test_2/tmp/T2 -t T2 --noreg --nononlinreg --noseg --nosubcortseg\n",
      "bet /local-scratch/marcthib_scratch/miccai-radiology/test/cbtc_test_27/t1c_fsl_anat.nii /local-scratch/marcthib_scratch/miccai-radiology/test/cbtc_test_27/t1c_bet.nii -f 0.5 -g 0.0\n",
      "bet /local-scratch/marcthib_scratch/miccai-radiology/test/cbtc_test_23/t1c_fsl_anat.nii /local-scratch/marcthib_scratch/miccai-radiology/test/cbtc_test_23/t1c_bet.nii -f 0.5 -g 0.0\n",
      "bet /local-scratch/marcthib_scratch/miccai-radiology/test/cbtc_test_27/flair_fsl_anat.nii /local-scratch/marcthib_scratch/miccai-radiology/test/cbtc_test_27/flair_bet.nii -f 0.5 -g 0.0\n",
      "bet /local-scratch/marcthib_scratch/miccai-radiology/test/cbtc_test_23/flair_fsl_anat.nii /local-scratch/marcthib_scratch/miccai-radiology/test/cbtc_test_23/flair_bet.nii -f 0.5 -g 0.0\n",
      "reg_aladin -ref /local-scratch/marcthib_scratch/miccai-radiology/test/cbtc_test_27/t1c_bet.nii.gz -flo /local-scratch/marcthib_scratch/miccai-radiology/test/cbtc_test_27/flair_bet.nii.gz -aff /home/marcthib/research/miccai-radiology/reg.txt -res /local-scratch/marcthib_scratch/miccai-radiology/test/cbtc_test_27/flair_reg_aladin.nii -rigOnly\n",
      "reg_aladin -ref /local-scratch/marcthib_scratch/miccai-radiology/test/cbtc_test_23/t1c_bet.nii.gz -flo /local-scratch/marcthib_scratch/miccai-radiology/test/cbtc_test_23/flair_bet.nii.gz -aff /home/marcthib/research/miccai-radiology/reg.txt -res /local-scratch/marcthib_scratch/miccai-radiology/test/cbtc_test_23/flair_reg_aladin.nii -rigOnly\n",
      "fsl_anat -i /local-scratch/marcthib_scratch/miccai-radiology/test/cbtc_test_32/flair.nii -o /local-scratch/marcthib_scratch/miccai-radiology/test/cbtc_test_32/tmp/T2 -t T2 --noreg --nononlinreg --noseg --nosubcortseg\n",
      "fsl_anat -i /local-scratch/marcthib_scratch/miccai-radiology/test/cbtc_test_33/t1c.nii -o /local-scratch/marcthib_scratch/miccai-radiology/test/cbtc_test_33/tmp/T1 -t T1 --noreg --nononlinreg --noseg --nosubcortseg\n",
      "fsl_anat -i /local-scratch/marcthib_scratch/miccai-radiology/test/cbtc_test_34/t1c.nii -o /local-scratch/marcthib_scratch/miccai-radiology/test/cbtc_test_34/tmp/T1 -t T1 --noreg --nononlinreg --noseg --nosubcortseg\n",
      "bet /local-scratch/marcthib_scratch/miccai-radiology/test/cbtc_test_32/t1c_fsl_anat.nii /local-scratch/marcthib_scratch/miccai-radiology/test/cbtc_test_32/t1c_bet.nii -f 0.5 -g 0.0\n",
      "bet /local-scratch/marcthib_scratch/miccai-radiology/test/cbtc_test_32/flair_fsl_anat.nii /local-scratch/marcthib_scratch/miccai-radiology/test/cbtc_test_32/flair_bet.nii -f 0.5 -g 0.0\n",
      "reg_aladin -ref /local-scratch/marcthib_scratch/miccai-radiology/test/cbtc_test_32/t1c_bet.nii.gz -flo /local-scratch/marcthib_scratch/miccai-radiology/test/cbtc_test_32/flair_bet.nii.gz -aff /home/marcthib/research/miccai-radiology/reg.txt -res /local-scratch/marcthib_scratch/miccai-radiology/test/cbtc_test_32/flair_reg_aladin.nii -rigOnly\n",
      "fsl_anat -i /local-scratch/marcthib_scratch/miccai-radiology/test/cbtc_test_4/t1c.nii -o /local-scratch/marcthib_scratch/miccai-radiology/test/cbtc_test_4/tmp/T1 -t T1 --noreg --nononlinreg --noseg --nosubcortseg\n",
      "bet /local-scratch/marcthib_scratch/miccai-radiology/test/cbtc_test_2/t1c_fsl_anat.nii /local-scratch/marcthib_scratch/miccai-radiology/test/cbtc_test_2/t1c_bet.nii -f 0.5 -g 0.0\n",
      "bet /local-scratch/marcthib_scratch/miccai-radiology/test/cbtc_test_2/flair_fsl_anat.nii /local-scratch/marcthib_scratch/miccai-radiology/test/cbtc_test_2/flair_bet.nii -f 0.5 -g 0.0\n",
      "reg_aladin -ref /local-scratch/marcthib_scratch/miccai-radiology/test/cbtc_test_2/t1c_bet.nii.gz -flo /local-scratch/marcthib_scratch/miccai-radiology/test/cbtc_test_2/flair_bet.nii.gz -aff /home/marcthib/research/miccai-radiology/reg.txt -res /local-scratch/marcthib_scratch/miccai-radiology/test/cbtc_test_2/flair_reg_aladin.nii -rigOnly\n",
      "fsl_anat -i /local-scratch/marcthib_scratch/miccai-radiology/test/cbtc_test_4/flair.nii -o /local-scratch/marcthib_scratch/miccai-radiology/test/cbtc_test_4/tmp/T2 -t T2 --noreg --nononlinreg --noseg --nosubcortseg\n",
      "fsl_anat -i /local-scratch/marcthib_scratch/miccai-radiology/test/cbtc_test_7/t1c.nii -o /local-scratch/marcthib_scratch/miccai-radiology/test/cbtc_test_7/tmp/T1 -t T1 --noreg --nononlinreg --noseg --nosubcortseg\n",
      "bet /local-scratch/marcthib_scratch/miccai-radiology/test/cbtc_test_4/t1c_fsl_anat.nii /local-scratch/marcthib_scratch/miccai-radiology/test/cbtc_test_4/t1c_bet.nii -f 0.5 -g 0.0\n",
      "bet /local-scratch/marcthib_scratch/miccai-radiology/test/cbtc_test_4/flair_fsl_anat.nii /local-scratch/marcthib_scratch/miccai-radiology/test/cbtc_test_4/flair_bet.nii -f 0.5 -g 0.0\n",
      "reg_aladin -ref /local-scratch/marcthib_scratch/miccai-radiology/test/cbtc_test_4/t1c_bet.nii.gz -flo /local-scratch/marcthib_scratch/miccai-radiology/test/cbtc_test_4/flair_bet.nii.gz -aff /home/marcthib/research/miccai-radiology/reg.txt -res /local-scratch/marcthib_scratch/miccai-radiology/test/cbtc_test_4/flair_reg_aladin.nii -rigOnly\n"
     ]
    },
    {
     "name": "stdout",
     "output_type": "stream",
     "text": [
      "fsl_anat -i /local-scratch/marcthib_scratch/miccai-radiology/test/cbtc_test_7/flair.nii -o /local-scratch/marcthib_scratch/miccai-radiology/test/cbtc_test_7/tmp/T2 -t T2 --noreg --nononlinreg --noseg --nosubcortseg\n",
      "bet /local-scratch/marcthib_scratch/miccai-radiology/test/cbtc_test_7/t1c_fsl_anat.nii /local-scratch/marcthib_scratch/miccai-radiology/test/cbtc_test_7/t1c_bet.nii -f 0.5 -g 0.0\n",
      "bet /local-scratch/marcthib_scratch/miccai-radiology/test/cbtc_test_7/flair_fsl_anat.nii /local-scratch/marcthib_scratch/miccai-radiology/test/cbtc_test_7/flair_bet.nii -f 0.5 -g 0.0\n",
      "reg_aladin -ref /local-scratch/marcthib_scratch/miccai-radiology/test/cbtc_test_7/t1c_bet.nii.gz -flo /local-scratch/marcthib_scratch/miccai-radiology/test/cbtc_test_7/flair_bet.nii.gz -aff /home/marcthib/research/miccai-radiology/reg.txt -res /local-scratch/marcthib_scratch/miccai-radiology/test/cbtc_test_7/flair_reg_aladin.nii -rigOnly\n",
      "fsl_anat -i /local-scratch/marcthib_scratch/miccai-radiology/test/cbtc_test_33/flair.nii -o /local-scratch/marcthib_scratch/miccai-radiology/test/cbtc_test_33/tmp/T2 -t T2 --noreg --nononlinreg --noseg --nosubcortseg\n",
      "bet /local-scratch/marcthib_scratch/miccai-radiology/test/cbtc_test_33/t1c_fsl_anat.nii /local-scratch/marcthib_scratch/miccai-radiology/test/cbtc_test_33/t1c_bet.nii -f 0.5 -g 0.0\n",
      "bet /local-scratch/marcthib_scratch/miccai-radiology/test/cbtc_test_33/flair_fsl_anat.nii /local-scratch/marcthib_scratch/miccai-radiology/test/cbtc_test_33/flair_bet.nii -f 0.5 -g 0.0\n",
      "reg_aladin -ref /local-scratch/marcthib_scratch/miccai-radiology/test/cbtc_test_33/t1c_bet.nii.gz -flo /local-scratch/marcthib_scratch/miccai-radiology/test/cbtc_test_33/flair_bet.nii.gz -aff /home/marcthib/research/miccai-radiology/reg.txt -res /local-scratch/marcthib_scratch/miccai-radiology/test/cbtc_test_33/flair_reg_aladin.nii -rigOnly\n",
      "fsl_anat -i /local-scratch/marcthib_scratch/miccai-radiology/test/cbtc_test_34/flair.nii -o /local-scratch/marcthib_scratch/miccai-radiology/test/cbtc_test_34/tmp/T2 -t T2 --noreg --nononlinreg --noseg --nosubcortseg\n",
      "bet /local-scratch/marcthib_scratch/miccai-radiology/test/cbtc_test_34/t1c_fsl_anat.nii /local-scratch/marcthib_scratch/miccai-radiology/test/cbtc_test_34/t1c_bet.nii -f 0.5 -g 0.0\n",
      "bet /local-scratch/marcthib_scratch/miccai-radiology/test/cbtc_test_34/flair_fsl_anat.nii /local-scratch/marcthib_scratch/miccai-radiology/test/cbtc_test_34/flair_bet.nii -f 0.5 -g 0.0\n",
      "reg_aladin -ref /local-scratch/marcthib_scratch/miccai-radiology/test/cbtc_test_34/t1c_bet.nii.gz -flo /local-scratch/marcthib_scratch/miccai-radiology/test/cbtc_test_34/flair_bet.nii.gz -aff /home/marcthib/research/miccai-radiology/reg.txt -res /local-scratch/marcthib_scratch/miccai-radiology/test/cbtc_test_34/flair_reg_aladin.nii -rigOnly\n"
     ]
    }
   ],
   "source": [
    "test_path = \"/local-scratch/marcthib_scratch/miccai-radiology/test/\"\n",
    "p = Pool(8)\n",
    "print(p.map(preprocess_folder, [os.path.join(test_path, f) for f in os.listdir(test_path)]))"
   ]
  },
  {
   "cell_type": "code",
   "execution_count": 5,
   "metadata": {
    "scrolled": false
   },
   "outputs": [
    {
     "name": "stdout",
     "output_type": "stream",
     "text": [
      "fsl_anat -i /local-scratch/marcthib_scratch/miccai-radiology/test/cbtc_test_29/t1c.nii -o /local-scratch/marcthib_scratch/miccai-radiology/test/cbtc_test_29/tmp/T1 -t T1 --noreg --nononlinreg --noseg --nosubcortseg\n",
      "fsl_anat -i /local-scratch/marcthib_scratch/miccai-radiology/test/cbtc_test_28/t1c.nii -o /local-scratch/marcthib_scratch/miccai-radiology/test/cbtc_test_28/tmp/T1 -t T1 --noreg --nononlinreg --noseg --nosubcortseg\n",
      "fsl_anat -i /local-scratch/marcthib_scratch/miccai-radiology/test/cbtc_test_30/t1c.nii -o /local-scratch/marcthib_scratch/miccai-radiology/test/cbtc_test_30/tmp/T1 -t T1 --noreg --nononlinreg --noseg --nosubcortseg\n",
      "fsl_anat -i /local-scratch/marcthib_scratch/miccai-radiology/test/cbtc_test_31/t1c.nii -o /local-scratch/marcthib_scratch/miccai-radiology/test/cbtc_test_31/tmp/T1 -t T1 --noreg --nononlinreg --noseg --nosubcortseg\n",
      "fsl_anat -i /local-scratch/marcthib_scratch/miccai-radiology/test/cbtc_test_29/flair.nii -o /local-scratch/marcthib_scratch/miccai-radiology/test/cbtc_test_29/tmp/T2 -t T2 --noreg --nononlinreg --noseg --nosubcortseg\n",
      "bet /local-scratch/marcthib_scratch/miccai-radiology/test/cbtc_test_29/t1c_fsl_anat.nii /local-scratch/marcthib_scratch/miccai-radiology/test/cbtc_test_29/t1c_bet.nii -f 0.5 -g 0.0\n",
      "bet /local-scratch/marcthib_scratch/miccai-radiology/test/cbtc_test_29/flair_fsl_anat.nii /local-scratch/marcthib_scratch/miccai-radiology/test/cbtc_test_29/flair_bet.nii -f 0.5 -g 0.0\n",
      "reg_aladin -ref /local-scratch/marcthib_scratch/miccai-radiology/test/cbtc_test_29/t1c_bet.nii.gz -flo /local-scratch/marcthib_scratch/miccai-radiology/test/cbtc_test_29/flair_bet.nii.gz -aff /home/marcthib/research/miccai-radiology/reg.txt -res /local-scratch/marcthib_scratch/miccai-radiology/test/cbtc_test_29/flair_reg_aladin.nii -rigOnly\n",
      "fsl_anat -i /local-scratch/marcthib_scratch/miccai-radiology/test/cbtc_test_30/flair.nii -o /local-scratch/marcthib_scratch/miccai-radiology/test/cbtc_test_30/tmp/T2 -t T2 --noreg --nononlinreg --noseg --nosubcortseg\n",
      "fsl_anat -i /local-scratch/marcthib_scratch/miccai-radiology/test/cbtc_test_28/flair.nii -o /local-scratch/marcthib_scratch/miccai-radiology/test/cbtc_test_28/tmp/T2 -t T2 --noreg --nononlinreg --noseg --nosubcortseg\n",
      "bet /local-scratch/marcthib_scratch/miccai-radiology/test/cbtc_test_30/t1c_fsl_anat.nii /local-scratch/marcthib_scratch/miccai-radiology/test/cbtc_test_30/t1c_bet.nii -f 0.5 -g 0.0\n",
      "bet /local-scratch/marcthib_scratch/miccai-radiology/test/cbtc_test_30/flair_fsl_anat.nii /local-scratch/marcthib_scratch/miccai-radiology/test/cbtc_test_30/flair_bet.nii -f 0.5 -g 0.0\n",
      "reg_aladin -ref /local-scratch/marcthib_scratch/miccai-radiology/test/cbtc_test_30/t1c_bet.nii.gz -flo /local-scratch/marcthib_scratch/miccai-radiology/test/cbtc_test_30/flair_bet.nii.gz -aff /home/marcthib/research/miccai-radiology/reg.txt -res /local-scratch/marcthib_scratch/miccai-radiology/test/cbtc_test_30/flair_reg_aladin.nii -rigOnly\n",
      "bet /local-scratch/marcthib_scratch/miccai-radiology/test/cbtc_test_28/t1c_fsl_anat.nii /local-scratch/marcthib_scratch/miccai-radiology/test/cbtc_test_28/t1c_bet.nii -f 0.5 -g 0.0\n",
      "bet /local-scratch/marcthib_scratch/miccai-radiology/test/cbtc_test_28/flair_fsl_anat.nii /local-scratch/marcthib_scratch/miccai-radiology/test/cbtc_test_28/flair_bet.nii -f 0.5 -g 0.0\n",
      "reg_aladin -ref /local-scratch/marcthib_scratch/miccai-radiology/test/cbtc_test_28/t1c_bet.nii.gz -flo /local-scratch/marcthib_scratch/miccai-radiology/test/cbtc_test_28/flair_bet.nii.gz -aff /home/marcthib/research/miccai-radiology/reg.txt -res /local-scratch/marcthib_scratch/miccai-radiology/test/cbtc_test_28/flair_reg_aladin.nii -rigOnly\n"
     ]
    },
    {
     "ename": "FileNotFoundError",
     "evalue": "[Errno 2] No such file or directory: '/local-scratch/marcthib_scratch/miccai-radiology/test/cbtc_test_31/tmp/T1.anat/T1_biascorr.nii.gz' -> '/local-scratch/marcthib_scratch/miccai-radiology/test/cbtc_test_31/t1c_fsl_anat.nii.gz'",
     "output_type": "error",
     "traceback": [
      "\u001b[0;31m---------------------------------------------------------------------------\u001b[0m",
      "\u001b[0;31mRemoteTraceback\u001b[0m                           Traceback (most recent call last)",
      "\u001b[0;31mRemoteTraceback\u001b[0m: \n\"\"\"\nTraceback (most recent call last):\n  File \"/home/marcthib/miniconda3/envs/myenv/lib/python3.6/multiprocessing/pool.py\", line 119, in worker\n    result = (True, func(*args, **kwds))\n  File \"/home/marcthib/miniconda3/envs/myenv/lib/python3.6/multiprocessing/pool.py\", line 44, in mapstar\n    return list(map(*args))\n  File \"<ipython-input-3-2afc0b5360b8>\", line 6, in preprocess_folder\n    output_flair_filename='flair_proc.nii')\n  File \"/home/marcthib/research/miccai-radiology/utils/process_rtog_nii.py\", line 103, in process_rtog_nii\n    nii_dir)\n  File \"/home/marcthib/research/miccai-radiology/utils/process_rtog_nii.py\", line 38, in _preproc\n    nii_out + '.gz')\nFileNotFoundError: [Errno 2] No such file or directory: '/local-scratch/marcthib_scratch/miccai-radiology/test/cbtc_test_31/tmp/T1.anat/T1_biascorr.nii.gz' -> '/local-scratch/marcthib_scratch/miccai-radiology/test/cbtc_test_31/t1c_fsl_anat.nii.gz'\n\"\"\"",
      "\nThe above exception was the direct cause of the following exception:\n",
      "\u001b[0;31mFileNotFoundError\u001b[0m                         Traceback (most recent call last)",
      "\u001b[0;32m<ipython-input-5-ce00d04fd1fa>\u001b[0m in \u001b[0;36m<module>\u001b[0;34m()\u001b[0m\n\u001b[1;32m      1\u001b[0m \u001b[0mtest_path\u001b[0m \u001b[0;34m=\u001b[0m \u001b[0;34m\"/local-scratch/marcthib_scratch/miccai-radiology/test/\"\u001b[0m\u001b[0;34m\u001b[0m\u001b[0m\n\u001b[1;32m      2\u001b[0m \u001b[0mp\u001b[0m \u001b[0;34m=\u001b[0m \u001b[0mPool\u001b[0m\u001b[0;34m(\u001b[0m\u001b[0;36m8\u001b[0m\u001b[0;34m)\u001b[0m\u001b[0;34m\u001b[0m\u001b[0m\n\u001b[0;32m----> 3\u001b[0;31m \u001b[0mprint\u001b[0m\u001b[0;34m(\u001b[0m\u001b[0mp\u001b[0m\u001b[0;34m.\u001b[0m\u001b[0mmap\u001b[0m\u001b[0;34m(\u001b[0m\u001b[0mpreprocess_folder\u001b[0m\u001b[0;34m,\u001b[0m \u001b[0;34m[\u001b[0m\u001b[0mtest_path\u001b[0m \u001b[0;34m+\u001b[0m \u001b[0;34m\"cbtc_test_\"\u001b[0m \u001b[0;34m+\u001b[0m \u001b[0mstr\u001b[0m\u001b[0;34m(\u001b[0m\u001b[0mi\u001b[0m\u001b[0;34m)\u001b[0m \u001b[0;32mfor\u001b[0m \u001b[0mi\u001b[0m \u001b[0;32min\u001b[0m \u001b[0;34m[\u001b[0m\u001b[0;36m28\u001b[0m\u001b[0;34m,\u001b[0m \u001b[0;36m29\u001b[0m\u001b[0;34m,\u001b[0m \u001b[0;36m30\u001b[0m\u001b[0;34m,\u001b[0m \u001b[0;36m31\u001b[0m\u001b[0;34m]\u001b[0m\u001b[0;34m]\u001b[0m\u001b[0;34m)\u001b[0m\u001b[0;34m)\u001b[0m\u001b[0;34m\u001b[0m\u001b[0m\n\u001b[0m",
      "\u001b[0;32m~/miniconda3/envs/myenv/lib/python3.6/multiprocessing/pool.py\u001b[0m in \u001b[0;36mmap\u001b[0;34m(self, func, iterable, chunksize)\u001b[0m\n\u001b[1;32m    264\u001b[0m         \u001b[0;32min\u001b[0m \u001b[0ma\u001b[0m \u001b[0mlist\u001b[0m \u001b[0mthat\u001b[0m \u001b[0;32mis\u001b[0m \u001b[0mreturned\u001b[0m\u001b[0;34m.\u001b[0m\u001b[0;34m\u001b[0m\u001b[0m\n\u001b[1;32m    265\u001b[0m         '''\n\u001b[0;32m--> 266\u001b[0;31m         \u001b[0;32mreturn\u001b[0m \u001b[0mself\u001b[0m\u001b[0;34m.\u001b[0m\u001b[0m_map_async\u001b[0m\u001b[0;34m(\u001b[0m\u001b[0mfunc\u001b[0m\u001b[0;34m,\u001b[0m \u001b[0miterable\u001b[0m\u001b[0;34m,\u001b[0m \u001b[0mmapstar\u001b[0m\u001b[0;34m,\u001b[0m \u001b[0mchunksize\u001b[0m\u001b[0;34m)\u001b[0m\u001b[0;34m.\u001b[0m\u001b[0mget\u001b[0m\u001b[0;34m(\u001b[0m\u001b[0;34m)\u001b[0m\u001b[0;34m\u001b[0m\u001b[0m\n\u001b[0m\u001b[1;32m    267\u001b[0m \u001b[0;34m\u001b[0m\u001b[0m\n\u001b[1;32m    268\u001b[0m     \u001b[0;32mdef\u001b[0m \u001b[0mstarmap\u001b[0m\u001b[0;34m(\u001b[0m\u001b[0mself\u001b[0m\u001b[0;34m,\u001b[0m \u001b[0mfunc\u001b[0m\u001b[0;34m,\u001b[0m \u001b[0miterable\u001b[0m\u001b[0;34m,\u001b[0m \u001b[0mchunksize\u001b[0m\u001b[0;34m=\u001b[0m\u001b[0;32mNone\u001b[0m\u001b[0;34m)\u001b[0m\u001b[0;34m:\u001b[0m\u001b[0;34m\u001b[0m\u001b[0m\n",
      "\u001b[0;32m~/miniconda3/envs/myenv/lib/python3.6/multiprocessing/pool.py\u001b[0m in \u001b[0;36mget\u001b[0;34m(self, timeout)\u001b[0m\n\u001b[1;32m    642\u001b[0m             \u001b[0;32mreturn\u001b[0m \u001b[0mself\u001b[0m\u001b[0;34m.\u001b[0m\u001b[0m_value\u001b[0m\u001b[0;34m\u001b[0m\u001b[0m\n\u001b[1;32m    643\u001b[0m         \u001b[0;32melse\u001b[0m\u001b[0;34m:\u001b[0m\u001b[0;34m\u001b[0m\u001b[0m\n\u001b[0;32m--> 644\u001b[0;31m             \u001b[0;32mraise\u001b[0m \u001b[0mself\u001b[0m\u001b[0;34m.\u001b[0m\u001b[0m_value\u001b[0m\u001b[0;34m\u001b[0m\u001b[0m\n\u001b[0m\u001b[1;32m    645\u001b[0m \u001b[0;34m\u001b[0m\u001b[0m\n\u001b[1;32m    646\u001b[0m     \u001b[0;32mdef\u001b[0m \u001b[0m_set\u001b[0m\u001b[0;34m(\u001b[0m\u001b[0mself\u001b[0m\u001b[0;34m,\u001b[0m \u001b[0mi\u001b[0m\u001b[0;34m,\u001b[0m \u001b[0mobj\u001b[0m\u001b[0;34m)\u001b[0m\u001b[0;34m:\u001b[0m\u001b[0;34m\u001b[0m\u001b[0m\n",
      "\u001b[0;31mFileNotFoundError\u001b[0m: [Errno 2] No such file or directory: '/local-scratch/marcthib_scratch/miccai-radiology/test/cbtc_test_31/tmp/T1.anat/T1_biascorr.nii.gz' -> '/local-scratch/marcthib_scratch/miccai-radiology/test/cbtc_test_31/t1c_fsl_anat.nii.gz'"
     ]
    }
   ],
   "source": [
    "test_path = \"/local-scratch/marcthib_scratch/miccai-radiology/test/\"\n",
    "p = Pool(8)\n",
    "print(p.map(preprocess_folder, [test_path + \"cbtc_test_\" + str(i) for i in [28, 29, 30, 31]]))"
   ]
  },
  {
   "cell_type": "code",
   "execution_count": null,
   "metadata": {},
   "outputs": [],
   "source": [
    "val_path = \"/local-scratch/marcthib_scratch/miccai-radiology/val/\"\n",
    "p = Pool(8)\n",
    "print(p.map(preprocess_folder, [os.path.join(val_path, f) for f in os.listdir(val_path)]))"
   ]
  },
  {
   "cell_type": "code",
   "execution_count": null,
   "metadata": {},
   "outputs": [],
   "source": []
  },
  {
   "cell_type": "code",
   "execution_count": null,
   "metadata": {},
   "outputs": [],
   "source": []
  },
  {
   "cell_type": "code",
   "execution_count": null,
   "metadata": {},
   "outputs": [],
   "source": []
  },
  {
   "cell_type": "code",
   "execution_count": null,
   "metadata": {},
   "outputs": [],
   "source": []
  }
 ],
 "metadata": {
  "kernelspec": {
   "display_name": "Python 3",
   "language": "python",
   "name": "python3"
  },
  "language_info": {
   "codemirror_mode": {
    "name": "ipython",
    "version": 3
   },
   "file_extension": ".py",
   "mimetype": "text/x-python",
   "name": "python",
   "nbconvert_exporter": "python",
   "pygments_lexer": "ipython3",
   "version": "3.6.5"
  }
 },
 "nbformat": 4,
 "nbformat_minor": 2
}
