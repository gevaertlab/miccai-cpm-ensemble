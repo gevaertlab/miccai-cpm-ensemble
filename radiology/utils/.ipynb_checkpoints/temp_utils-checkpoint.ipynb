{
 "cells": [
  {
   "cell_type": "code",
   "execution_count": 3,
   "metadata": {},
   "outputs": [],
   "source": [
    "import os\n",
    "\n",
    "import numpy as np\n",
    "import pandas as pd\n",
    "\n",
    "from data_utils import im_path_to_arr, arr_to_im_path"
   ]
  },
  {
   "cell_type": "code",
   "execution_count": 107,
   "metadata": {},
   "outputs": [],
   "source": [
    "# TODO: retrieve also the names of LGG patients because some patients are neither LGG nor HGG.\n",
    "# TODO: do the same for BraTS\n",
    "def get_hgg_and_lgg_patients(val_path):\n",
    "    HGG_patients = []\n",
    "    if 'brats' in val_path.lower():\n",
    "        HGG_patients = os.listdir('/labs/gevaertlab/data/tumor_segmentation/brats2017/HGG')\n",
    "        LGG_patients = os.listdir('/labs/gevaertlab/data/tumor_segmentation/brats2017/LGG')\n",
    "    if 'rembrandt' in val_path.lower():\n",
    "        df = pd.read_csv('/labs/gevaertlab/data/tumor_segmentation/REMBRANDT_Clinical_Annotation_Updated.csv')\n",
    "        df = df.loc[:, ['SAMPLE_ID', 'DISEASE_TYPE']]\n",
    "        df_hgg = df[df.DISEASE_TYPE == 'GBM']\n",
    "        HGG_patients = df_hgg.SAMPLE_ID.tolist()\n",
    "        HGG_patients = [pat + '=' for pat in HGG_patients]\n",
    "        df_lgg = df[df.DISEASE_TYPE != 'GBM']\n",
    "        LGG_patients = df_lgg.SAMPLE_ID.tolist()\n",
    "        LGG_patients = [pat + '=' for pat in LGG_patients]\n",
    "    \n",
    "    HGG_patients = [os.path.join(val_path, pat) for pat in HGG_patients]\n",
    "    HGG_patients = [pat.encode('utf-8') for pat in HGG_patients]\n",
    "    LGG_patients = [os.path.join(val_path, pat) for pat in LGG_patients]\n",
    "    LGG_patients = [pat.encode('utf-8') for pat in LGG_patients]\n",
    "    return HGG_patients, LGG_patients"
   ]
  }
 ],
 "metadata": {
  "kernelspec": {
   "display_name": "Python 3",
   "language": "python",
   "name": "python3"
  },
  "language_info": {
   "codemirror_mode": {
    "name": "ipython",
    "version": 3
   },
   "file_extension": ".py",
   "mimetype": "text/x-python",
   "name": "python",
   "nbconvert_exporter": "python",
   "pygments_lexer": "ipython3",
   "version": "3.6.3"
  }
 },
 "nbformat": 4,
 "nbformat_minor": 2
}
