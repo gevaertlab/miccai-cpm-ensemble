{
 "cells": [
  {
   "cell_type": "code",
   "execution_count": null,
   "metadata": {},
   "outputs": [],
   "source": [
    "%load_ext autoreload\n",
    "%autoreload 2\n",
    "\n",
    "%matplotlib inline"
   ]
  },
  {
   "cell_type": "code",
   "execution_count": null,
   "metadata": {},
   "outputs": [],
   "source": [
    "import getpass\n",
    "import os\n",
    "import re\n",
    "import time\n",
    "\n",
    "import numpy as np\n",
    "import matplotlib.pyplot as plt\n",
    "\n",
    "from utils.data_utils import im_path_to_arr\n",
    "from utils.process_rtog_nii import process_rtog_nii"
   ]
  },
  {
   "cell_type": "code",
   "execution_count": null,
   "metadata": {},
   "outputs": [],
   "source": [
    "plt.rcParams[\"figure.figsize\"] = 12, 9"
   ]
  },
  {
   "cell_type": "code",
   "execution_count": null,
   "metadata": {},
   "outputs": [],
   "source": [
    "def run_preprocessing(scratch_folder, patient_number):\n",
    "    process_rtog_nii(scratch_folder,\n",
    "                     input_t1c_filename=patient_number + 't1c.nii',\n",
    "                     output_t1c_filename=patient_number + 't1c_proc.nii',\n",
    "                     input_flair_filename=patient_number + 'flair.nii',\n",
    "                     output_flair_filename=patient_number + 'flair_proc.nii')"
   ]
  },
  {
   "cell_type": "code",
   "execution_count": null,
   "metadata": {},
   "outputs": [],
   "source": [
    "def viz_preprocessing_results(scratch_folder, patient_number):\n",
    "    fig, axes = plt.subplots(4, 4)\n",
    "\n",
    "    for i, imtype in enumerate(['t1c', 't1c_proc', 'flair', 'flair_proc']):\n",
    "        impath = os.path.join(scratch_folder, str(patient_number) + imtype + '.nii')\n",
    "        arr = np.nan_to_num(im_path_to_arr(impath))\n",
    "\n",
    "        step = int(len(arr) / 4)\n",
    "        idxs = [int(step / 2 + sl * step) for sl in range(4)]\n",
    "        for k, idx in enumerate(idxs):\n",
    "            ax = axes[k, i]\n",
    "            ax.imshow(arr[idx], cmap='viridis', vmin=0, vmax=arr.max())\n",
    "            ax.axis('off')\n",
    "        \n",
    "    plt.tight_layout()\n",
    "    plt.suptitle(str(patient_number))\n",
    "    plt.show()"
   ]
  },
  {
   "cell_type": "markdown",
   "metadata": {},
   "source": [
    "# Preprocess one image"
   ]
  },
  {
   "cell_type": "code",
   "execution_count": null,
   "metadata": {},
   "outputs": [],
   "source": [
    "scratch_folder = '/local-scratch/' + getpass.getuser() + '_scratch/rtog'\n",
    "patient_number = '101'"
   ]
  },
  {
   "cell_type": "code",
   "execution_count": null,
   "metadata": {},
   "outputs": [],
   "source": [
    "start = time.time()\n",
    "run_preprocessing(scratch_folder, patient_number)\n",
    "end = time.time()\n",
    "print()\n",
    "print('Preprocessing took {} seconds.'.format(end-start))"
   ]
  },
  {
   "cell_type": "code",
   "execution_count": null,
   "metadata": {
    "scrolled": false
   },
   "outputs": [],
   "source": [
    "viz_preprocessing_results(scratch_folder, patient_number)"
   ]
  },
  {
   "cell_type": "markdown",
   "metadata": {},
   "source": [
    "# Preprocess everything"
   ]
  },
  {
   "cell_type": "code",
   "execution_count": null,
   "metadata": {},
   "outputs": [],
   "source": [
    "scratch_folder = '/local-scratch/' + getpass.getuser() + '_scratch/rtog'\n",
    "print(scratch_folder)"
   ]
  },
  {
   "cell_type": "code",
   "execution_count": null,
   "metadata": {
    "scrolled": true
   },
   "outputs": [],
   "source": [
    "patient_numbers = []\n",
    "i = 0\n",
    "for item in os.listdir(scratch_folder):\n",
    "    if os.path.isfile(os.path.join(scratch_folder, item)):\n",
    "        patient_number = re.findall('\\d+', item)[0]\n",
    "        if patient_number not in patient_numbers:\n",
    "            patient_numbers.append(patient_number)\n",
    "            i += 1\n",
    "            # run_preprocessing(scratch_folder, patient_number)\n",
    "            if not i % 10:\n",
    "                viz_preprocesing_results(scratch_folder, patient_number)"
   ]
  }
 ],
 "metadata": {
  "kernelspec": {
   "display_name": "Python 3",
   "language": "python",
   "name": "python3"
  },
  "language_info": {
   "codemirror_mode": {
    "name": "ipython",
    "version": 3
   },
   "file_extension": ".py",
   "mimetype": "text/x-python",
   "name": "python",
   "nbconvert_exporter": "python",
   "pygments_lexer": "ipython3",
   "version": "3.6.4"
  }
 },
 "nbformat": 4,
 "nbformat_minor": 2
}
