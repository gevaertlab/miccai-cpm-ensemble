{
 "cells": [
  {
   "cell_type": "code",
   "execution_count": 35,
   "metadata": {},
   "outputs": [],
   "source": [
    "import os\n",
    "\n",
    "import gzip\n",
    "from collections import Counter\n",
    "\n",
    "import numpy as np\n",
    "import pandas as pd\n",
    "\n",
    "import SimpleITK as sitk"
   ]
  },
  {
   "cell_type": "code",
   "execution_count": 66,
   "metadata": {},
   "outputs": [],
   "source": [
    "def im_path_to_arr(im_path):\n",
    "    return sitk.GetArrayFromImage(sitk.ReadImage(im_path))\n",
    "\n",
    "\n",
    "def j(path, fname):\n",
    "    return os.path.join(path, fname)\n",
    "\n",
    "\n",
    "def create_labels(directory):\n",
    "    # hardcoded for Rembrandt dataset\n",
    "    shapes = set()\n",
    "    labels = set()\n",
    "    if 'edema.nii.gz' in os.listdir(directory):\n",
    "        with gzip.open(j(directory, 'edema.nii.gz'), 'rb') as fgz:\n",
    "            with open(j(directory, 'edema.nii'), 'wb') as f:\n",
    "                f.write(fgz.read())\n",
    "        edema = im_path_to_arr(j(directory, 'edema.nii'))\n",
    "        os.remove(j(directory, 'edema.nii'))\n",
    "        shapes.add(edema.shape)\n",
    "        labels.add('edema')\n",
    "    if 'necrosis.nii.gz' in os.listdir(directory):\n",
    "        with gzip.open(j(directory, 'necrosis.nii.gz'), 'rb') as fgz:\n",
    "            with open(j(directory, 'necrosis.nii'), 'wb') as f:\n",
    "                f.write(fgz.read())\n",
    "        necrosis = im_path_to_arr(j(directory, 'necrosis.nii'))\n",
    "        os.remove(j(directory, 'necrosis.nii'))\n",
    "        shapes.add(necrosis.shape)\n",
    "        labels.add('necrosis')\n",
    "    if 'active.nii.gz' in os.listdir(directory):\n",
    "        with gzip.open(j(directory, 'active.nii.gz'), 'rb') as fgz:\n",
    "            with open(j(directory, 'active.nii'), 'wb') as f:\n",
    "                f.write(fgz.read())\n",
    "        active = im_path_to_arr(j(directory, 'active.nii'))\n",
    "        os.remove(j(directory, 'active.nii'))\n",
    "        shapes.add(active.shape)\n",
    "        labels.add('active')\n",
    "    assert(len(shapes) == 1)\n",
    "    # return tuple(labels)\n",
    "    return shapes.pop()\n",
    "\n",
    "def create_data(directory):\n",
    "    flair = im_path_to_arr(j(directory, 'flair_t1_bcorr_brain.nii'))\n",
    "    t1post = im_path_to_arr(j(directory, 't1-post_pre_bcorr_brain.nii'))\n",
    "    t1pre = im_path_to_arr(j(directory, 't1-pre_bcorr_brain.nii'))\n",
    "    t2 = im_path_to_arr(j(directory, 't2_t1_bcorr_brain.nii'))\n",
    "    \n",
    "    shapes = set()\n",
    "    shapes.add(flair.shape)\n",
    "    shapes.add(t2.shape)\n",
    "    shapes.add(t1pre.shape)\n",
    "    shapes.add(t1post.shape)\n",
    "    \n",
    "    assert(len(shapes) == 1)\n",
    "    return shapes.pop()"
   ]
  },
  {
   "cell_type": "code",
   "execution_count": 55,
   "metadata": {},
   "outputs": [],
   "source": [
    "data_dir = '/labs/gevaertlab/data/tumor_segmentation/REMBRANDTVerified/'\n",
    "\n",
    "# get the raw names of the folders to classify\n",
    "all_files_path = []\n",
    "patients = []\n",
    "for patient in os.listdir(data_dir):\n",
    "    patient_path = os.path.join(data_dir, patient)\n",
    "    if os.path.isdir(patient_path):\n",
    "        patients.append(patient_path)\n",
    "        for filename in os.listdir(patient_path):\n",
    "            filename_path = os.path.join(patient_path, filename)\n",
    "            all_files_path.append(filename_path)"
   ]
  },
  {
   "cell_type": "code",
   "execution_count": 58,
   "metadata": {},
   "outputs": [
    {
     "data": {
      "text/plain": [
       "Counter({(): 1,\n",
       "         ('active', 'edema'): 9,\n",
       "         ('active', 'necrosis'): 1,\n",
       "         ('active', 'necrosis', 'edema'): 31,\n",
       "         ('edema',): 14,\n",
       "         ('necrosis', 'edema'): 3})"
      ]
     },
     "execution_count": 58,
     "metadata": {},
     "output_type": "execute_result"
    }
   ],
   "source": [
    "all_labels = []\n",
    "for ex_pat in patients:\n",
    "    all_labels.append(create_labels(ex_pat))\n",
    "Counter(all_labels)"
   ]
  },
  {
   "cell_type": "code",
   "execution_count": 67,
   "metadata": {},
   "outputs": [
    {
     "data": {
      "text/plain": [
       "Counter({(30, 256, 256): 1,\n",
       "         (34, 512, 512): 1,\n",
       "         (48, 256, 256): 1,\n",
       "         (50, 256, 256): 4,\n",
       "         (51, 256, 256): 3,\n",
       "         (52, 256, 256): 2,\n",
       "         (53, 256, 256): 3,\n",
       "         (54, 256, 256): 9,\n",
       "         (55, 256, 256): 5,\n",
       "         (56, 256, 256): 11,\n",
       "         (57, 256, 256): 4,\n",
       "         (58, 256, 256): 6,\n",
       "         (59, 256, 256): 2,\n",
       "         (60, 256, 256): 5,\n",
       "         (64, 256, 256): 1})"
      ]
     },
     "execution_count": 67,
     "metadata": {},
     "output_type": "execute_result"
    }
   ],
   "source": [
    "all_shapes = []\n",
    "for ex_pat in patients:\n",
    "    if 'HF0899' not in ex_pat: # this patient has no tumor, needs to be removed\n",
    "        lab = create_labels(ex_pat)\n",
    "        dat = create_data(ex_pat)\n",
    "        assert(lab == dat)\n",
    "        all_shapes.append(dat)\n",
    "Counter(all_shapes)"
   ]
  }
 ],
 "metadata": {
  "kernelspec": {
   "display_name": "Python 3",
   "language": "python",
   "name": "python3"
  },
  "language_info": {
   "codemirror_mode": {
    "name": "ipython",
    "version": 3
   },
   "file_extension": ".py",
   "mimetype": "text/x-python",
   "name": "python",
   "nbconvert_exporter": "python",
   "pygments_lexer": "ipython3",
   "version": "3.6.3"
  }
 },
 "nbformat": 4,
 "nbformat_minor": 2
}
