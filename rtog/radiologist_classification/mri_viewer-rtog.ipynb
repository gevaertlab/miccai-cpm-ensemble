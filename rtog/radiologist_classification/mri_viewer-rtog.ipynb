{
 "cells": [
  {
   "cell_type": "markdown",
   "metadata": {},
   "source": [
    "# Setup (to run once)"
   ]
  },
  {
   "cell_type": "code",
   "execution_count": 11,
   "metadata": {},
   "outputs": [],
   "source": [
    "%matplotlib notebook\n",
    "import os\n",
    "\n",
    "import numpy as np\n",
    "import pandas as pd\n",
    "import pydicom\n",
    "from utils.mri_viewer import MRIViewer, MRIViewerOne"
   ]
  },
  {
   "cell_type": "code",
   "execution_count": 12,
   "metadata": {},
   "outputs": [],
   "source": [
    "def create_modality_file(dcm_path):\n",
    "    dicoms = os.listdir(dcm_path)\n",
    "    dicoms = [dic.strip() for dic in dicoms if dic.strip()[-4:] == '.dcm']\n",
    "    dicoms = [os.path.join(dcm_path, dic) for dic in dicoms]\n",
    "    nb_dicoms = len(dicoms)\n",
    "    \n",
    "    nb_dicoms_original = 0\n",
    "    patientIDs = []\n",
    "    modality = None\n",
    "    print('\\n\\x1b[1;30m' + \"Description: \", pydicom.read_file(dicoms[0]).SeriesDescription + '\\x1b[0m')\n",
    "    for dic in dicoms:\n",
    "        sample = pydicom.read_file(dic)\n",
    "        patientIDs.append(sample.PatientID)\n",
    "        \n",
    "        if \"ORIGINAL\" in sample[(\"0008\", \"0008\")].value:\n",
    "            arr = sample.pixel_array\n",
    "            stack_id = int(sample.InstanceNumber) - 1\n",
    "            if modality is None:\n",
    "                shape = [nb_dicoms] + list(arr.shape)\n",
    "                modality = np.zeros(shape)\n",
    "            modality[stack_id, :, :] = arr\n",
    "            nb_dicoms_original += 1\n",
    "    \n",
    "    print(\"\\nTotal of {} .dcm in folder.\".format(nb_dicoms))\n",
    "    print(\"Total of {} original .dcm in folder.\".format(nb_dicoms_original))\n",
    "    if nb_dicoms_original == 0:\n",
    "        return None, np.unique(patientIDs)\n",
    "    else:\n",
    "        return modality[:nb_dicoms_original, ...], np.unique(patientIDs)\n",
    "\n",
    "def view_dcm_path(dcm_path):\n",
    "    print(\"Viewing folder: {}\".format(dcm_path))\n",
    "    a, p = create_modality_file(dcm_path)\n",
    "    if a is None:\n",
    "        print(\"Found no ORIGINAL .dicom files. Can not provide visualization.\")\n",
    "        return\n",
    "\n",
    "    MRIViewerOne(a, title1=p)\n",
    "    \n",
    "def view_unique_description(N):\n",
    "    dcm_path = pre_or_post_images_fields.loc[pre_or_post_images_fields.description == unique_descriptions[N]].iloc[0].raw_path\n",
    "    view_dcm_path(dcm_path)"
   ]
  },
  {
   "cell_type": "code",
   "execution_count": 13,
   "metadata": {},
   "outputs": [],
   "source": [
    "pre_or_post_images_fields = pd.read_csv(\"descriptions_unclassified_t1_preVpost.csv\")\n",
    "unique_descriptions = sorted(pre_or_post_images_fields.description.unique())"
   ]
  },
  {
   "cell_type": "markdown",
   "metadata": {},
   "source": [
    "# View MRI by number"
   ]
  },
  {
   "cell_type": "markdown",
   "metadata": {},
   "source": [
    "Enter DESCRIPTION_NUMBER between 1 and 210 below and hit **`RUN`** on the next two cells.\n",
    "\n",
    "example: \n",
    " \n",
    ">```python\n",
    "DESCRIPTION_NUMBER = 189\n",
    "```"
   ]
  },
  {
   "cell_type": "code",
   "execution_count": 6,
   "metadata": {},
   "outputs": [],
   "source": [
    "DESCRIPTION_NUMBER = 212\n"
   ]
  },
  {
   "cell_type": "code",
   "execution_count": 7,
   "metadata": {
    "scrolled": false
   },
   "outputs": [
    {
     "name": "stdout",
     "output_type": "stream",
     "text": [
      "Viewing folder: /labs/gevaertlab/users/hackhack/RTOG/RTOG_duplicate/0825-6686 DAR/2011-06__Studies/759^2105^825_759_MR_2011-06-13_155525_Head^TRIAL.BRAIN.NALL_t1.tfl.tra_n25__00000\n",
      "\n",
      "\u001b[1;30mDescription:  t1_tfl_tra\u001b[0m\n",
      "\n",
      "Total of 25 .dcm in folder.\n",
      "Total of 0 original .dcm in folder.\n",
      "Found no ORIGINAL .dicom files. Can not provide visualization.\n"
     ]
    }
   ],
   "source": [
    "view_unique_description(DESCRIPTION_NUMBER - 1)"
   ]
  },
  {
   "cell_type": "markdown",
   "metadata": {},
   "source": [
    "# View MRI by folder name"
   ]
  },
  {
   "cell_type": "markdown",
   "metadata": {},
   "source": [
    "Enter FOLDER_NAME below, between quotation marks, and hit **`RUN`** on the next two cells. These folder names can be found on the last column of the Google Sheet. \n",
    "\n",
    "example: \n",
    " \n",
    ">```python\n",
    "FOLDER_NAME = \"/labs/gevaertlab/users/hackhack/RTOG/RTOG_duplicate/0825-6686 DAR/2009-10__Studies/156^2101^825_156_MR_2009-10-23_165252_NEURO^OR.IMRI_TRANS.3D.T1.FLASH.1X1X2_n80__00000\"\n",
    "```"
   ]
  },
  {
   "cell_type": "code",
   "execution_count": 99,
   "metadata": {},
   "outputs": [],
   "source": [
    "FOLDER_NAME = \"/labs/gevaertlab/users/hackhack/RTOG/RTOG_duplicate/0825-6686 DAR/2010-08__Studies/427^399^825_427_MR_2010-08-13_153845_MRI.BRAIN.W-WO.CONTRAST_3d.T1.FSPGR.(INCLUDE.NOSE.TIP_n120__00000\""
   ]
  },
  {
   "cell_type": "code",
   "execution_count": 100,
   "metadata": {},
   "outputs": [
    {
     "name": "stdout",
     "output_type": "stream",
     "text": [
      "Viewing folder: /labs/gevaertlab/users/hackhack/RTOG/RTOG_duplicate/0825-6686 DAR/2010-08__Studies/427^399^825_427_MR_2010-08-13_153845_MRI.BRAIN.W-WO.CONTRAST_3d.T1.FSPGR.(INCLUDE.NOSE.TIP_n120__00000\n",
      "\n",
      "\u001b[1;30mDescription:  3d T1 FSPGR (INCLUDE NOSE TIP\u001b[0m\n",
      "\n",
      "Total of 120 .dcm in folder.\n",
      "Total of 0 original .dcm in folder.\n",
      "Found no ORIGINAL .dicom files. Can not provide visualization.\n"
     ]
    }
   ],
   "source": [
    "view_dcm_path(FOLDER_NAME)"
   ]
  },
  {
   "cell_type": "code",
   "execution_count": null,
   "metadata": {},
   "outputs": [],
   "source": []
  },
  {
   "cell_type": "code",
   "execution_count": null,
   "metadata": {},
   "outputs": [],
   "source": []
  },
  {
   "cell_type": "code",
   "execution_count": null,
   "metadata": {},
   "outputs": [],
   "source": []
  },
  {
   "cell_type": "code",
   "execution_count": null,
   "metadata": {},
   "outputs": [],
   "source": []
  },
  {
   "cell_type": "code",
   "execution_count": null,
   "metadata": {},
   "outputs": [],
   "source": []
  },
  {
   "cell_type": "code",
   "execution_count": null,
   "metadata": {},
   "outputs": [],
   "source": []
  }
 ],
 "metadata": {
  "kernelspec": {
   "display_name": "Python 3",
   "language": "python",
   "name": "python3"
  },
  "language_info": {
   "codemirror_mode": {
    "name": "ipython",
    "version": 3
   },
   "file_extension": ".py",
   "mimetype": "text/x-python",
   "name": "python",
   "nbconvert_exporter": "python",
   "pygments_lexer": "ipython3",
   "version": "3.6.5"
  }
 },
 "nbformat": 4,
 "nbformat_minor": 2
}
