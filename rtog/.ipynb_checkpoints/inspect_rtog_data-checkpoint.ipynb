{
 "cells": [
  {
   "cell_type": "code",
   "execution_count": 1,
   "metadata": {},
   "outputs": [],
   "source": [
    "import os\n",
    "\n",
    "import numpy as np\n",
    "import pandas as pd\n",
    "\n",
    "import dicom"
   ]
  },
  {
   "cell_type": "code",
   "execution_count": 2,
   "metadata": {},
   "outputs": [],
   "source": [
    "data_dir = '/labs/gevaertlab/users/hackhack/RTOG/scratch'\n",
    "\n",
    "# get the raw names of the folders to classify\n",
    "all_files = []\n",
    "all_files_path = []\n",
    "for study in os.listdir(data_dir):  \n",
    "    if 'Studies' in study:\n",
    "        study_path = os.path.join(data_dir, study)\n",
    "        for filename in os.listdir(study_path):\n",
    "            filename_path = os.path.join(study_path, filename)\n",
    "            # exclude folders with no dicoms\n",
    "            if len(os.listdir(filename_path)) > 0:\n",
    "                full_name = study + '/' + filename\n",
    "                all_files.append(full_name)\n",
    "                all_files_path.append(filename_path)"
   ]
  },
  {
   "cell_type": "code",
   "execution_count": 3,
   "metadata": {},
   "outputs": [],
   "source": [
    "# to play with an example\n",
    "ex = all_files_path[11]\n",
    "ex_dicoms = os.listdir(ex)\n",
    "ex_dicoms = [dic for dic in ex_dicoms if dic[-3:] == 'dcm']\n",
    "ex_dicoms = [os.path.join(ex, dic) for dic in ex_dicoms]\n",
    "ex_dic = ex_dicoms[0]"
   ]
  },
  {
   "cell_type": "code",
   "execution_count": 11,
   "metadata": {},
   "outputs": [
    {
     "name": "stdout",
     "output_type": "stream",
     "text": [
      "/labs/gevaertlab/users/hackhack/RTOG/scratch/0101-01__Studies/727^1027^825_727_MR_0101-01-01_103407_BRAIN.W.WO.CM.MRI_AXIAL.T2.FLAIR_n26__00000/1.2.840.113619.2.244.3596.12002590.21165.1299586853.113.dcm\n"
     ]
    },
    {
     "data": {
      "text/plain": [
       "'AXIAL T2 FLAIR'"
      ]
     },
     "execution_count": 11,
     "metadata": {},
     "output_type": "execute_result"
    }
   ],
   "source": [
    "print(ex_dic)\n",
    "pat = dicom.read_file(ex_dic)\n",
    "pat.SeriesDescription"
   ]
  },
  {
   "cell_type": "code",
   "execution_count": 6,
   "metadata": {},
   "outputs": [],
   "source": [
    "# check that all dicoms have same description\n",
    "count = 0\n",
    "weird = []\n",
    "\n",
    "for ex in all_files_path:\n",
    "    ex_dicoms = os.listdir(ex)\n",
    "    ex_dicoms = [dic for dic in ex_dicoms if dic[-3:] == 'dcm']\n",
    "    ex_dicoms = [os.path.join(ex, dic) for dic in ex_dicoms]\n",
    "    descriptions = set()\n",
    "    for ex_dic in ex_dicoms:\n",
    "        pat = dicom.read_file(ex_dic)\n",
    "        try:\n",
    "            descriptions.add(pat.SeriesDescription)\n",
    "        except AttributeError:\n",
    "            continue\n",
    "    if len(descriptions) != 1:\n",
    "        weird.append(ex)\n",
    "        count += 1"
   ]
  },
  {
   "cell_type": "code",
   "execution_count": 35,
   "metadata": {},
   "outputs": [
    {
     "name": "stdout",
     "output_type": "stream",
     "text": [
      "1 113.dcm\n",
      "3 114.dcm\n",
      "5 115.dcm\n",
      "7 116.dcm\n",
      "9 117.dcm\n",
      "11 118.dcm\n",
      "13 119.dcm\n",
      "15 120.dcm\n",
      "17 121.dcm\n",
      "19 122.dcm\n",
      "21 123.dcm\n",
      "23 124.dcm\n",
      "25 125.dcm\n",
      "2 126.dcm\n",
      "4 127.dcm\n",
      "6 128.dcm\n",
      "8 129.dcm\n",
      "10 130.dcm\n",
      "12 131.dcm\n",
      "14 132.dcm\n",
      "16 133.dcm\n",
      "18 134.dcm\n",
      "20 135.dcm\n",
      "22 136.dcm\n",
      "24 137.dcm\n",
      "26 138.dcm\n"
     ]
    }
   ],
   "source": [
    "for ex_dic in ex_dicoms:\n",
    "    pat = dicom.read_file(ex_dic)\n",
    "    print(pat.InStackPositionNumber, ex_dic[-7:])"
   ]
  },
  {
   "cell_type": "markdown",
   "metadata": {},
   "source": [
    "useful fields:\n",
    "- Acquisition Date (e.g. 20110308)\n",
    "- Manufacturer (e.g. GE MEDICAL SYSTEMS)\n",
    "- Institution Name (e.g. Anonymous Hospital149360)\n",
    "- SeriesDescription (e.g. AXIAL T2 FLAIR)\n",
    "- PatientName (e.g. 727^1027^825^^)\n",
    "- Clinical Trial Sponsor Name (e.g. American_College_of_Radiology)\n",
    "- Clinical Trial Site Name (e.g. Hartford Hospital)\n",
    "- Slice Thickness (e.g. 5)\n",
    "- Spacing between Slices (e.g. 7)\n",
    "- Flip angle (e.g. 90)\n",
    "- Series Contrast (e.g. 0)\n",
    "- Stack ID (e.g. 1)\n",
    "- In-Stack Position Number (e.g. 3) -- very important to stack in order!!!\n",
    "- Image dimension - X (e.g. 256)\n",
    "- Image dimension - Y (e.g. 192)\n",
    "- Rows (e.g. 512)\n",
    "- Columns (e.g. 512)\n",
    "- Pixel Spacing (e.g. ['0.4688', '0.4688'])\n",
    "- Smallest Image Pixel Value (e.g. 0)\n",
    "- Largest Image Pixel Value (e.g. 1094)"
   ]
  },
  {
   "cell_type": "code",
   "execution_count": null,
   "metadata": {},
   "outputs": [],
   "source": []
  }
 ],
 "metadata": {
  "kernelspec": {
   "display_name": "Python 3",
   "language": "python",
   "name": "python3"
  },
  "language_info": {
   "codemirror_mode": {
    "name": "ipython",
    "version": 3
   },
   "file_extension": ".py",
   "mimetype": "text/x-python",
   "name": "python",
   "nbconvert_exporter": "python",
   "pygments_lexer": "ipython3",
   "version": "3.6.3"
  }
 },
 "nbformat": 4,
 "nbformat_minor": 2
}
