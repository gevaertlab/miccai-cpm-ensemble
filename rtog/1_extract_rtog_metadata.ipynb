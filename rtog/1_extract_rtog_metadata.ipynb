{
 "cells": [
  {
   "cell_type": "code",
   "execution_count": 1,
   "metadata": {},
   "outputs": [],
   "source": [
    "%load_ext autoreload\n",
    "%autoreload 2"
   ]
  },
  {
   "cell_type": "code",
   "execution_count": 2,
   "metadata": {},
   "outputs": [],
   "source": [
    "import os\n",
    "\n",
    "import re\n",
    "import csv\n",
    "import pickle\n",
    "\n",
    "import numpy as np\n",
    "import pandas as pd\n",
    "from tqdm import tqdm_notebook, tqdm\n",
    "\n",
    "import pydicom\n",
    "from collections import Counter\n",
    "\n",
    "import shutil\n",
    "\n",
    "from utils.data_utils import arr_to_im_path\n",
    "from utils.classify_utils import collect_info_patient_folder"
   ]
  },
  {
   "cell_type": "markdown",
   "metadata": {},
   "source": [
    "### Load all folder names"
   ]
  },
  {
   "cell_type": "code",
   "execution_count": 33,
   "metadata": {},
   "outputs": [
    {
     "data": {
      "application/vnd.jupyter.widget-view+json": {
       "model_id": "e9f8e45ee93c403f8f942e850631f069",
       "version_major": 2,
       "version_minor": 0
      },
      "text/plain": [
       "HBox(children=(IntProgress(value=0, max=103), HTML(value='')))"
      ]
     },
     "metadata": {},
     "output_type": "display_data"
    },
    {
     "ename": "KeyboardInterrupt",
     "evalue": "",
     "output_type": "error",
     "traceback": [
      "\u001b[0;31m---------------------------------------------------------------------------\u001b[0m",
      "\u001b[0;31mKeyboardInterrupt\u001b[0m                         Traceback (most recent call last)",
      "\u001b[0;32m<ipython-input-33-34b93632b9bb>\u001b[0m in \u001b[0;36m<module>\u001b[0;34m()\u001b[0m\n\u001b[1;32m     13\u001b[0m                 \u001b[0mfilename_path\u001b[0m \u001b[0;34m=\u001b[0m \u001b[0mos\u001b[0m\u001b[0;34m.\u001b[0m\u001b[0mpath\u001b[0m\u001b[0;34m.\u001b[0m\u001b[0mjoin\u001b[0m\u001b[0;34m(\u001b[0m\u001b[0mstudy_path\u001b[0m\u001b[0;34m,\u001b[0m \u001b[0mfilename\u001b[0m\u001b[0;34m)\u001b[0m\u001b[0;34m\u001b[0m\u001b[0m\n\u001b[1;32m     14\u001b[0m                 \u001b[0;31m# exclude folders with no dicoms\u001b[0m\u001b[0;34m\u001b[0m\u001b[0;34m\u001b[0m\u001b[0m\n\u001b[0;32m---> 15\u001b[0;31m                 \u001b[0;32mif\u001b[0m \u001b[0mlen\u001b[0m\u001b[0;34m(\u001b[0m\u001b[0mos\u001b[0m\u001b[0;34m.\u001b[0m\u001b[0mlistdir\u001b[0m\u001b[0;34m(\u001b[0m\u001b[0mfilename_path\u001b[0m\u001b[0;34m)\u001b[0m\u001b[0;34m)\u001b[0m \u001b[0;34m>\u001b[0m \u001b[0;36m0\u001b[0m\u001b[0;34m:\u001b[0m\u001b[0;34m\u001b[0m\u001b[0m\n\u001b[0m\u001b[1;32m     16\u001b[0m                     \u001b[0mfull_name\u001b[0m \u001b[0;34m=\u001b[0m \u001b[0mstudy\u001b[0m \u001b[0;34m+\u001b[0m \u001b[0;34m'/'\u001b[0m \u001b[0;34m+\u001b[0m \u001b[0mfilename\u001b[0m\u001b[0;34m\u001b[0m\u001b[0m\n\u001b[1;32m     17\u001b[0m                     \u001b[0mall_files\u001b[0m\u001b[0;34m.\u001b[0m\u001b[0mappend\u001b[0m\u001b[0;34m(\u001b[0m\u001b[0mfull_name\u001b[0m\u001b[0;34m)\u001b[0m\u001b[0;34m\u001b[0m\u001b[0m\n",
      "\u001b[0;31mKeyboardInterrupt\u001b[0m: "
     ]
    }
   ],
   "source": [
    "data_dirs = ['/labs/gevaertlab/users/hackhack/RTOG/RTOG_duplicate/0825-6686 DAR',\n",
    "             '/labs/gevaertlab/users/hackhack/RTOG/RTOG_duplicate/0825-6686 DAR 2of2']\n",
    "\n",
    "# get the raw names of the folders to classify\n",
    "all_files = []\n",
    "all_files_path = []\n",
    "bar = tqdm_notebook(total=sum([len(os.listdir(data_dir)) for data_dir in data_dirs]))\n",
    "for data_dir in data_dirs:\n",
    "    for study in os.listdir(data_dir):\n",
    "        if 'Studies' in study:\n",
    "            study_path = os.path.join(data_dir, study)\n",
    "            for filename in os.listdir(study_path):\n",
    "                filename_path = os.path.join(study_path, filename)\n",
    "                # exclude folders with no dicoms\n",
    "                if len(os.listdir(filename_path)) > 0:\n",
    "                    full_name = study + '/' + filename\n",
    "                    all_files.append(full_name)\n",
    "                    all_files_path.append(filename_path)\n",
    "        bar.update(1)"
   ]
  },
  {
   "cell_type": "code",
   "execution_count": 42,
   "metadata": {},
   "outputs": [],
   "source": [
    "pickle.dump(all_files_path, open(\"all_files_path.pkl\", \"wb\"))"
   ]
  },
  {
   "cell_type": "markdown",
   "metadata": {},
   "source": [
    "Load pickle"
   ]
  },
  {
   "cell_type": "code",
   "execution_count": 7,
   "metadata": {},
   "outputs": [],
   "source": [
    "all_files_path = pickle.load(open(\"all_files_path.pkl\", \"rb\"))"
   ]
  },
  {
   "cell_type": "code",
   "execution_count": 8,
   "metadata": {
    "scrolled": true
   },
   "outputs": [
    {
     "name": "stdout",
     "output_type": "stream",
     "text": [
      "(0008, 0005) Specific Character Set              CS: 'ISO_IR 100'\n",
      "(0008, 0008) Image Type                          CS: ['ORIGINAL', 'PRIMARY', 'OTHER']\n",
      "(0008, 0016) SOP Class UID                       UI: MR Image Storage\n",
      "(0008, 0018) SOP Instance UID                    UI: 1.2.840.113619.2.244.3596.13650034.1926.1291036028.100\n",
      "(0008, 0020) Study Date                          DA: '010101'\n",
      "(0008, 0021) Series Date                         DA: '20101130'\n",
      "(0008, 0022) Acquisition Date                    DA: '20101130'\n",
      "(0008, 0023) Content Date                        DA: '20101130'\n",
      "(0008, 0030) Study Time                          TM: '063719'\n",
      "(0008, 0031) Series Time                         TM: '070200'\n",
      "(0008, 0032) Acquisition Time                    TM: '070200'\n",
      "(0008, 0033) Content Time                        TM: '070200'\n",
      "(0008, 0050) Accession Number                    SH: '0'\n",
      "(0008, 0060) Modality                            CS: 'MR'\n",
      "(0008, 0070) Manufacturer                        LO: 'GE MEDICAL SYSTEMS'\n",
      "(0008, 0080) Institution Name                    LO: 'Anonymous Hospital145723'\n",
      "(0008, 0090) Referring Physician's Name          PN: 'UNKNOWN'\n",
      "(0008, 1010) Station Name                        SH: 'MR1'\n",
      "(0008, 1030) Study Description                   LO: 'BRAIN W/WO CM MRI'\n",
      "(0008, 103e) Series Description                  LO: '3 PLANE LOC'\n",
      "(0008, 1050) Performing Physician's Name         PN: ''\n",
      "(0008, 1070) Operators' Name                     PN: 'UNNAMED'\n",
      "(0008, 1090) Manufacturer's Model Name           LO: 'Signa HDxt'\n",
      "(0008, 1110)  Referenced Study Sequence   1 item(s) ---- \n",
      "   (0008, 1150) Referenced SOP Class UID            UI: Detached Study Management SOP Class\n",
      "   (0008, 1155) Referenced SOP Instance UID         UI: 1.2.840.113619.2.244.3596.13650034.2471.1291035495.975\n",
      "   ---------\n",
      "(0008, 1111)  Referenced Performed Procedure Step Sequence   1 item(s) ---- \n",
      "   (0008, 1150) Referenced SOP Class UID            UI: Modality Performed Procedure Step SOP Class\n",
      "   (0008, 1155) Referenced SOP Instance UID         UI: 1.2.840.113619.2.244.3596.13650034.2471.1291035495.974\n",
      "   ---------\n",
      "(0009, 0010) Private Creator                     LO: 'GEMS_IDEN_01'\n",
      "(0009, 0011) Private Creator                     LO: 'SECTRA_Ident_01'\n",
      "(0009, 1002) [Suite id]                          SH: 'hmr1'\n",
      "(0009, 1004) [Product id]                        SH: 'SIGNA'\n",
      "(0009, 1027) [Image actual date]                 SL: 1291100520\n",
      "(0009, 1030) [Service id]                        SH: '109'\n",
      "(0009, 1031) [Mobile location number]            SH: '9999'\n",
      "(0009, 10e3) [Equipment UID]                     UI: 1.2.840.113619.1.244.5.3596.13650034\n",
      "(0009, 10e7) [Exam Record checksum]              UL: 4063623566\n",
      "(0009, 10e9) [Actual series data time stamp]     SL: 1291100520\n",
      "(0009, 1101) [Request number]                    UN: b'3336232 '\n",
      "(0009, 1102) [Examination number]                UN: b'0 '\n",
      "(0010, 0010) Patient's Name                      PN: '727^1027^825^^'\n",
      "(0010, 0020) Patient ID                          LO: '727'\n",
      "(0010, 0030) Patient's Birth Date                DA: '19000101'\n",
      "(0010, 0032) Patient's Birth Time                TM: ''\n",
      "(0010, 0040) Patient's Sex                       CS: 'M'\n",
      "(0010, 1010) Patient's Age                       AS: '045Y'\n",
      "(0010, 1030) Patient's Weight                    DS: \"81.647\"\n",
      "(0010, 2160) Ethnic Group                        SH: ''\n",
      "(0010, 21b0) Additional Patient History          LT: ''\n",
      "(0012, 0010) Clinical Trial Sponsor Name         LO: 'American_College_of_Radiology'\n",
      "(0012, 0020) Clinical Trial Protocol ID          LO: '825'\n",
      "(0012, 0021) Clinical Trial Protocol Name        LO: 'RT/TMZ/Bev or Placeb'\n",
      "(0012, 0030) Clinical Trial Site ID              LO: '5807'\n",
      "(0012, 0031) Clinical Trial Site Name            LO: 'Hartford Hospital'\n",
      "(0012, 0040) Clinical Trial Subject ID           LO: '727'\n",
      "(0012, 0050) Clinical Trial Time Point ID        LO: ''\n",
      "(0012, 0051) Clinical Trial Time Point Descripti ST: ''\n",
      "(0012, 0062) Patient Identity Removed            CS: 'YES'\n",
      "(0012, 0063) De-identification Method            LO: 'TRIAD Anonymization; Date=1/7/2011; Time=3:47 PM'\n",
      "(0018, 0015) Body Part Examined                  CS: 'BRAIN W_WO CM MR'\n",
      "(0018, 0020) Scanning Sequence                   CS: 'GR'\n",
      "(0018, 0021) Sequence Variant                    CS: ['SS', 'SK']\n",
      "(0018, 0022) Scan Options                        CS: ['FAST_GEMS', 'SEQ_GEMS', 'PFF']\n",
      "(0018, 0023) MR Acquisition Type                 CS: '2D'\n",
      "(0018, 0025) Angio Flag                          CS: 'N'\n",
      "(0018, 0050) Slice Thickness                     DS: \"5\"\n",
      "(0018, 0080) Repetition Time                     DS: \"5.536\"\n",
      "(0018, 0081) Echo Time                           DS: \"1.692\"\n",
      "(0018, 0082) Inversion Time                      DS: \"0\"\n",
      "(0018, 0083) Number of Averages                  DS: \"1\"\n",
      "(0018, 0084) Imaging Frequency                   DS: \"63.84035\"\n",
      "(0018, 0085) Imaged Nucleus                      SH: '1H'\n",
      "(0018, 0086) Echo Number(s)                      IS: '1'\n",
      "(0018, 0087) Magnetic Field Strength             DS: \"1.5\"\n",
      "(0018, 0088) Spacing Between Slices              DS: \"10\"\n",
      "(0018, 0091) Echo Train Length                   IS: '1'\n",
      "(0018, 0093) Percent Sampling                    DS: \"100\"\n",
      "(0018, 0094) Percent Phase Field of View         DS: \"100\"\n",
      "(0018, 0095) Pixel Bandwidth                     DS: \"244.141\"\n",
      "(0018, 1000) Device Serial Number                LO: '0000000860545mr1'\n",
      "(0018, 1020) Software Version(s)                 LO: ['15', 'LX', 'MR Software release:15.0_M4A_0947.a']\n",
      "(0018, 1030) Protocol Name                       LO: 'STEALTH BRAIN./1'\n",
      "(0018, 1088) Heart Rate                          IS: '0'\n",
      "(0018, 1090) Cardiac Number of Images            IS: '0'\n",
      "(0018, 1094) Trigger Window                      IS: '0'\n",
      "(0018, 1100) Reconstruction Diameter             DS: \"240\"\n",
      "(0018, 1250) Receive Coil Name                   SH: 'HEAD'\n",
      "(0018, 1310) Acquisition Matrix                  US: [0, 256, 128, 0]\n",
      "(0018, 1312) In-plane Phase Encoding Direction   CS: 'ROW'\n",
      "(0018, 1314) Flip Angle                          DS: \"30\"\n",
      "(0018, 1315) Variable Flip Angle Flag            CS: 'N'\n",
      "(0018, 1316) SAR                                 DS: \"0.00895589\"\n",
      "(0018, 5100) Patient Position                    CS: 'HFS'\n",
      "(0019, 0010) Private Creator                     LO: 'GEMS_ACQU_01'\n",
      "(0019, 100f) [Horiz. Frame of ref.]              DS: \"424.200012\"\n",
      "(0019, 1011) [Series contrast]                   SS: 0\n",
      "(0019, 1012) [Last pseq]                         SS: 20\n",
      "(0019, 1017) [Series plane]                      SS: 256\n",
      "(0019, 1018) [First scan ras]                    LO: 'I'\n",
      "(0019, 1019) [First scan location]               DS: \"-20\"\n",
      "(0019, 101a) [Last scan ras]                     LO: 'S'\n",
      "(0019, 101b) [Last scan loc]                     DS: \"20\"\n",
      "(0019, 101e) [Display field of view]             DS: \"240.000000\"\n",
      "(0019, 105a) [Acquisition Duration]              FL: 13586400.0\n",
      "(0019, 107d) [Second echo]                       DS: \"0\"\n",
      "(0019, 107e) [Number of echoes]                  SS: 1\n",
      "(0019, 107f) [Table delta]                       DS: \"0.000000\"\n",
      "(0019, 1081) [Contiguous]                        SS: 1\n",
      "(0019, 1084) [Peak SAR]                          DS: \"0.523675\"\n",
      "(0019, 1087) [Cardiac repetition time]           DS: \"0.000000\"\n",
      "(0019, 1088) [Images per cardiac cycle]          SS: 0\n",
      "(0019, 108a) [Actual receive gain analog]        SS: 13\n",
      "(0019, 108b) [Actual receive gain digital]       SS: 14\n",
      "(0019, 108d) [Delay after trigger]               DS: \"0\"\n",
      "(0019, 108f) [Swappf]                            SS: 0\n",
      "(0019, 1090) [Pause Interval]                    SS: 0\n",
      "(0019, 1091) [Pause Time]                        DS: \"0.000000\"\n",
      "(0019, 1092) [Slice offset on freq axis]         SL: 0\n",
      "(0019, 1093) [Auto Prescan Center Frequency]     DS: \"638403500\"\n",
      "(0019, 1094) [Auto Prescan Transmit Gain]        SS: 111\n",
      "(0019, 1095) [Auto Prescan Analog receiver gain] SS: 13\n",
      "(0019, 1096) [Auto Prescan Digital receiver gain SS: 14\n",
      "(0019, 1097) [Bitmap defining CVs]               SL: 0\n",
      "(0019, 109b) [Pulse Sequence Mode]               SS: 1\n",
      "(0019, 109c) [Pulse Sequence Name]               LO: 'fgre'\n",
      "(0019, 109d) [Pulse Sequence Date]               DT: '20100224074652'\n",
      "(0019, 109e) [Internal Pulse Sequence Name]      LO: 'FGRE'\n",
      "(0019, 109f) [Transmitting Coil Type]            SS: 1\n",
      "(0019, 10a0) [Surface Coil Type]                 SS: 0\n",
      "(0019, 10a1) [Extremity Coil flag]               SS: 0\n",
      "(0019, 10a2) [Raw data run number]               SL: 28167\n",
      "(0019, 10a3) [Calibrated Field strength]         UL: 0\n",
      "(0019, 10a4) [SAT fat/water/bone]                SS: 0\n",
      "(0019, 10a7) [User data 0]                       DS: \"0.000000\"\n",
      "(0019, 10a8) [User data 1]                       DS: \"0.000000\"\n",
      "(0019, 10a9) [User data 2]                       DS: \"0.000000\"\n",
      "(0019, 10aa) [User data 3]                       DS: \"0.000000\"\n",
      "(0019, 10ab) [User data 4]                       DS: \"0.000000\"\n",
      "(0019, 10ac) [User data 5]                       DS: \"0.000000\"\n",
      "(0019, 10ad) [User data 6]                       DS: \"0.000000\"\n",
      "(0019, 10ae) [User data 7]                       DS: \"0.000000\"\n",
      "(0019, 10af) [User data 8]                       DS: \"0.000000\"\n",
      "(0019, 10b0) [User data 9]                       DS: \"0.000000\"\n",
      "(0019, 10b1) [User data 10]                      DS: \"0.000000\"\n",
      "(0019, 10b2) [User data 11]                      DS: \"0.000000\"\n",
      "(0019, 10b3) [User data 12]                      DS: \"0.000000\"\n",
      "(0019, 10b4) [User data 13]                      DS: \"0.000000\"\n",
      "(0019, 10b5) [User data 14]                      DS: \"0.000000\"\n",
      "(0019, 10b6) [User data 15]                      DS: \"0.000000\"\n",
      "(0019, 10b7) [User data 16]                      DS: \"0.000000\"\n",
      "(0019, 10b8) [User data 17]                      DS: \"0.000000\"\n",
      "(0019, 10b9) [User data 18]                      DS: \"0.000000\"\n",
      "(0019, 10ba) [User data 19]                      DS: \"0.000000\"\n",
      "(0019, 10bb) [User data 20]                      DS: \"0.000000\"\n",
      "(0019, 10bc) [User data 21]                      DS: \"0.000000\"\n",
      "(0019, 10bd) [User data 22]                      DS: \"0.000000\"\n",
      "(0019, 10be) [Projection angle]                  DS: \"0.000000\"\n",
      "(0019, 10c0) [Saturation planes]                 SS: 0\n",
      "(0019, 10c2) [SAT location R]                    SS: 9990\n",
      "(0019, 10c3) [SAT location L]                    SS: 9990\n",
      "(0019, 10c4) [SAT location A]                    SS: 9990\n",
      "(0019, 10c5) [SAT location P]                    SS: 9990\n",
      "(0019, 10c6) [SAT location H]                    SS: 9990\n",
      "(0019, 10c7) [SAT location F]                    SS: 9990\n",
      "(0019, 10c8) [SAT thickness R/L]                 SS: 0\n",
      "(0019, 10c9) [SAT thickness A/P]                 SS: 0\n",
      "(0019, 10ca) [SAT thickness H/F]                 SS: 0\n",
      "(0019, 10cb) [Phase Contrast flow axis]          SS: 0\n",
      "(0019, 10cc) [Velocity encoding]                 SS: 0\n",
      "(0019, 10cd) [Thickness disclaimer]              SS: 0\n",
      "(0019, 10ce) [Prescan type]                      SS: 2\n",
      "(0019, 10cf) [Prescan status]                    SS: 0\n",
      "(0019, 10d2) [Projection Algorithm]              SS: 0\n",
      "(0019, 10d3) [Projection Algorithm Name]         SH: ''\n",
      "(0019, 10d5) [Fractional echo]                   SS: 1\n",
      "(0019, 10d7) [Cardiac phase number]              SS: 0\n",
      "(0019, 10d8) [Variable echoflag]                 SS: 0\n",
      "(0019, 10d9) [Concatenated SAT {# DTI Diffusion  DS: \"0.000000\"\n",
      "(0019, 10df) [User data 23 {# DTI Diffusion Dir. DS: \"0.000000\"\n",
      "(0019, 10e0) [User data 24 {# DTI Diffusion Dir. DS: \"0.000000\"\n",
      "(0019, 10e2) [Velocity Encode Scale]             DS: \"0.000000\"\n",
      "(0019, 10f2) [Fast phases]                       SS: 0\n",
      "(0019, 10f9) [Transmit gain]                     DS: \"111\"\n",
      "(0020, 000d) Study Instance UID                  UI: 1.2.752.24.7.569530439.1801332\n",
      "(0020, 000e) Series Instance UID                 UI: 1.2.840.113619.2.244.3596.13650034.2471.1291035495.976\n",
      "(0020, 0010) Study ID                            SH: '48697'\n",
      "(0020, 0011) Series Number                       IS: '1'\n",
      "(0020, 0012) Acquisition Number                  IS: '1'\n",
      "(0020, 0013) Instance Number                     IS: '8'\n",
      "(0020, 0032) Image Position (Patient)            DS: ['0', '-139.531', '119.531']\n",
      "(0020, 0037) Image Orientation (Patient)         DS: ['-0', '1', '0', '-0', '-0', '-1']\n",
      "(0020, 0052) Frame of Reference UID              UI: 1.2.840.113619.2.244.3596.13650034.2471.1291035495.977\n",
      "(0020, 0060) Laterality                          CS: ''\n",
      "(0020, 1002) Images in Acquisition               IS: '15'\n",
      "(0020, 1040) Position Reference Indicator        LO: ''\n",
      "(0020, 1041) Slice Location                      DS: \"0\"\n",
      "(0021, 0010) Private Creator                     LO: 'GEMS_RELA_01'\n",
      "(0021, 1035) [Series from which prescribed]      SS: 0\n",
      "(0021, 1036) [Image from which prescribed]       SS: 0\n",
      "(0021, 1037) [Screen Format]                     SS: 16\n",
      "(0021, 104f) [Locations in acquisition]          SS: 15\n",
      "(0021, 1050) [Graphically prescribed]            SS: 0\n",
      "(0021, 1051) [Rotation from source x rot]        DS: \"0.000000\"\n",
      "(0021, 1052) [Rotation from source y rot]        DS: \"0.000000\"\n",
      "(0021, 1053) [Rotation from source z rot]        DS: \"0.000000\"\n",
      "(0021, 1056) [Num 3D slabs]                      SL: 0\n",
      "(0021, 1057) [Locs per 3D slab]                  SL: 0\n",
      "(0021, 1058) [Overlaps]                          SL: 0\n",
      "(0021, 1059) [Image Filtering 0.5/0.2T]          SL: 0\n",
      "(0021, 105a) [Diffusion direction]               SL: 0\n",
      "(0021, 105b) [Tagging Flip Angle]                DS: \"0.000000\"\n",
      "(0021, 105c) [Tagging Orientation]               DS: \"0.000000\"\n",
      "(0021, 105d) [Tag Spacing]                       DS: \"0.000000\"\n",
      "(0021, 105e) [RTIA_timer]                        DS: \"0.000000\"\n",
      "(0021, 105f) [Fps]                               DS: \"0.000000\"\n",
      "(0021, 1081) [Auto window/level alpha]           DS: \"0\"\n",
      "(0021, 1082) [Auto window/level beta]            DS: \"0\"\n",
      "(0021, 1083) [Auto window/level window]          DS: \"0\"\n",
      "(0021, 1084) [Auto window/level level]           DS: \"0\"\n",
      "(0023, 0010) Private Creator                     LO: 'GEMS_STDY_01'\n",
      "(0023, 1070) [Start time(secs) in first axial]   FD: 0.0\n",
      "(0023, 1074) [No. of updates to header]          SL: 0\n",
      "(0023, 107d) [Indicates study has complete info  SS: 0\n",
      "(0025, 0010) Private Creator                     LO: 'GEMS_SERS_01'\n",
      "(0025, 1006) [Last pulse sequence used]          SS: 20\n",
      "(0025, 1007) [Images in Series]                  SL: 15\n",
      "(0025, 1010) [Landmark Counter]                  SL: 0\n",
      "(0025, 1011) [Number of Acquisitions]            SS: 15\n",
      "(0025, 1014) [Indicates no. of updates to header SL: 0\n",
      "(0025, 1017) [Series Complete Flag]              SL: 0\n",
      "(0025, 1018) [Number of images archived]         SL: 0\n",
      "(0025, 1019) [Last image number used]            SL: 15\n",
      "(0025, 101a) [Primary Receiver Suite and Host]   SH: 'hmr1ow'\n",
      "(0025, 101b) [Protocol Data Block (compressed)]  UN: b'S\\x02\\x00\\x00\\x1f\\x8b\\x08\\x08\\xb8\\xe7\\xf4L\\x00\\x03Ex48698Ser1Rx\\x00eT\\xc9\\x92\\xda0\\x10\\xbd\\xf3\\x15*\\x9d3\\x04\\xdbC\\x92k#\\xcbF\\x85li\\xd42\\xcb\\x89\\xa22T\\x85\\x0b\\x90a\\xa6R\\xf9\\xfb\\xb4$\\x9ber\\xeb\\xf7zQ/\\xcf\\x96\\xadw\\x1b\\xc6\\xe7\\xfb\\xdd+\\xab\\x0eo\\x97w>\\xb2\\x06\\x95W\\xa6e\\x1c?\\xce\\x87\\xe3\\x9e\\x8f\\x84Q\\x9ab$\\x94\\xe4\\xd5\\xd0J\\xc6\\x8b\\xa7h\\xf0\\x11\\xcaR\\xa2\\xa84\\xd4\\x8cg\\x03$?K\\x81\\xda\\x08>R\\x8d))\\'\\x0f\\xe9(_\\x18\\xaf\\xdfv\\xaf\\x87\\xfd\\xf1\\x9d\\xc9\\x9f\\xbfN\\xe47\\xd6\\xd3k\\xfb\\xdf_X\\xb5\\x8b-\\xe8\\x8e\\xca=O\\xf9\\xa8R\\xda\\x8b\\xb9Q\\x82\\xf2\\xdbShf\\xb6r\\x14\\xfcDoy\\xa7\\xc4\\x02U\\x93^\\xf6Po\\xd1B\\x08\\xfc\\x9e\\x90\\xdf\\xd8kV\\x87\\xd2\\x89\\xe5\\x84\\xf1\\xc9x2\\x19\\xe0\\xb6\\x01\\\\\\x10\\xc5G\\xad\\xa4Gb\\x99\\xb6k@\\xbc`dg\\xb6I\\x9d\\x93\\r\\x9d7\\xde\\xd5\\xa9\\xe6$\\x0cR\\xd2\\xfbu\\xb4QS\\x7f\\xc6\\x95\\xd2\\xc5\\x12K%W7\\xe4\\x9d\\x93\\xe8c\\x9cw \\xbcZ\\xca[\\x12 J\\xf2e\\xb1);\\x07|dP\\xd2\\xbe\\x9c\\x92x\\xd7\\x82\\xaaW\\xaa\\x8d\\xb82KZ\\xea\\xf38\\x16\\xf3sZ\\x06\\xe3\\xd3\\x88\\xac\\xe8\\xad\\xd6\\xa0&;\\xa3M\\n:E\\x16\\xe7Ov\\xce8\\xe4WT\\xf4\\x1e\\xd4E\\x7f\\xe1;@i\\xd3\\x1b\\xca\\x1fP\\x91\\x90\\x15V\\xbakp\\xdf\\xc4@\\xe5\\xffSEO5@\\x13\\xad\\xd74\\xc7\\xf4\\xdb\\x80H\\x8fY\\xfe\\x83\\xc2W`m\\xc5xw\\xbc\\xfc\\xd9\\x9d\\xc3\\x91\\xd6\\xc3b\\x84!\\xddBXk{J\\x08\\x1a\\xc6\\xff\\xee/\\x8c1\\xda\\xf3L\\x97R{\\x18\\xae\\x1d\\x17\\x1b\\xb7\\x95\\xb2\\xc3\"q\\xae(\\x03>\\xdeO\\xbd_\\x18\\xe7R\\xb9(\\x01!uE\\xd72nHR\\xa5\\x04\\xfa\\n\\n\\n\\x87.\\xc8\\\\\\x07\\xf5\\x90V\\x92l\\x8c\\x0fW\\x1a\\x9f\\x8f_\\xb7\\x04k\\xa7\\xec\\x96\\xea\\xa0\\xae\\x9d\\xe9l\\xba_$\\x83\\x06\\x16A\\x1a\\x03\\x81V\\n\\xef\\xcc\\x8d\\xa04\\x8bbi\\xf4\\x8dJ8\\xfbL\\xe4\\x9f\\x898\\xe3#\\xd5\\xebb\\x98\\xba\\x9b\\xd1\\xb7F\\x1f\\xf7MQ(\\x94\\xb8\\x82e\\xfa\\xd2\\xc2\\xceH\\xb5\\xd2\\xd3\\x94\\xb0\\xe9\\xa5\\x11\\xc6\\x8d\\x9b\\x8a\\xfe\\x88\\xc2\"\\xfa\\x07\\xd7$\"\\x84\\xa0\\xed\\x9c\\x0e`<h\\xd2\\x9e\\x87\\xf4#\\t\\xb7\\xbf\\xb3\\xff\\x01\\x08q\\xcb\\xe4u\\x04\\x00\\x00\\x00'\n",
      "(0027, 0010) Private Creator                     LO: 'GEMS_IMAG_01'\n",
      "(0027, 1006) [Image archive flag]                SL: 0\n",
      "(0027, 1010) [Scout Type]                        SS: 0\n",
      "(0027, 1030) [Foreign Image Revision]            SH: ''\n",
      "(0027, 1031) [Imaging Mode]                      SS: 1\n",
      "(0027, 1032) [Pulse Sequence]                    SS: 20\n",
      "(0027, 1033) [Imaging Options]                   SL: 8192\n",
      "(0027, 1035) [Plane Type]                        SS: 4\n",
      "(0027, 1040) [RAS letter of image location]      SH: 'R'\n",
      "(0027, 1041) [Image location]                    FL: 0.0\n",
      "(0027, 1060) [Image dimension - X]               FL: 256.0\n",
      "(0027, 1061) [Image dimension - Y]               FL: 128.0\n",
      "(0027, 1062) [Number of Excitations]             FL: 1.0\n",
      "(0028, 0002) Samples per Pixel                   US: 1\n",
      "(0028, 0004) Photometric Interpretation          CS: 'MONOCHROME2'\n",
      "(0028, 0006) Planar Configuration                US: 0\n",
      "(0028, 0010) Rows                                US: 256\n",
      "(0028, 0011) Columns                             US: 256\n",
      "(0028, 0030) Pixel Spacing                       DS: ['0.9375', '0.9375']\n",
      "(0028, 0100) Bits Allocated                      US: 16\n",
      "(0028, 0101) Bits Stored                         US: 16\n",
      "(0028, 0102) High Bit                            US: 15\n",
      "(0028, 0103) Pixel Representation                US: 1\n",
      "(0028, 0106) Smallest Image Pixel Value          US: 0\n",
      "(0028, 0107) Largest Image Pixel Value           US: 415\n",
      "(0028, 1050) Window Center                       DS: \"207\"\n",
      "(0028, 1051) Window Width                        DS: \"415\"\n",
      "(0029, 0010) Private Creator                     LO: 'GEMS_IMPS_01'\n",
      "(0029, 0011) Private Creator                     LO: 'SECTRA_ImageInfo_01'\n",
      "(0029, 1015) [Lower range of Pixels1]            SL: 0\n",
      "(0029, 1016) [Upper range of Pixels1]            SL: 0\n",
      "(0029, 1017) [Lower range of Pixels2]            SL: 0\n",
      "(0029, 1018) [Upper range of Pixels2]            SL: 0\n",
      "(0029, 1026) [Version of the hdr struct]         SS: 2\n",
      "(0029, 1034) [Advantage comp. Overflow]          SL: 16384\n",
      "(0029, 1035) [Advantage comp. Underflow]         SL: 0\n",
      "(0029, 1104) [Image Info new]                    UN: b'view_state {\\n    fi<0>\\n    si<0>\\n    ii<0>\\n}\\ndefault_pipe\\npipe_states\\npipe_overlays\\ncollection<W:hhux_wise:11123916 0>\\norder<1526:10>\\nsort_order<ascending>\\nsort_operation<none>\\n\\x00'\n",
      "(0040, 0253) Performed Procedure Step ID         SH: 'MR1291100519'\n",
      "(0040, 0254) Performed Procedure Step Descriptio LO: 'BRAIN W/WO CM MRI'\n",
      "(0043, 0010) Private Creator                     LO: 'GEMS_PARM_01'\n",
      "(0043, 1001) [Bitmap of prescan options]         SS: 5\n",
      "(0043, 1002) [Gradient offset in X]              SS: 8\n",
      "(0043, 1003) [Gradient offset in Y]              SS: -14\n",
      "(0043, 1004) [Gradient offset in Z]              SS: -19\n",
      "(0043, 1006) [Number of EPI shots]               SS: 0\n",
      "(0043, 1007) [Views per segment]                 SS: 0\n",
      "(0043, 1008) [Respiratory rate, bpm]             SS: 0\n",
      "(0043, 1009) [Respiratory trigger point]         SS: 0\n",
      "(0043, 100a) [Type of receiver used]             SS: 1\n",
      "(0043, 100b) [DB/dt Peak rate of change of gradi DS: \"0.000000\"\n",
      "(0043, 100c) [dB/dt Limits in units of percent]  DS: \"80.000000\"\n",
      "(0043, 100d) [PSD estimated limit]               DS: \"78.451561\"\n",
      "(0043, 100e) [PSD estimated limit in tesla per s DS: \"0.000000\"\n",
      "(0043, 1010) [Window value]                      US: 0\n",
      "(0043, 101c) [GE image integrity]                SS: 0\n",
      "(0043, 101d) [Level value]                       SS: 0\n",
      "(0043, 1028) [Unique image iden]                 OB: Array of 80 bytes\n",
      "(0043, 1029) [Histogram tables]                  OB: Array of 2068 bytes\n",
      "(0043, 102a) [User defined data]                 OB: Array of 3600 bytes\n",
      "(0043, 102c) [Effective echo spacing]            SS: 0\n",
      "(0043, 102d) [Filter Mode (String slop field 1 i SH: ''\n",
      "(0043, 102e) [String slop field 2]               SH: ''\n",
      "(0043, 102f) [Image Type (real, imaginary, phase SS: 0\n",
      "(0043, 1030) [Vas collapse flag]                 SS: 0\n",
      "(0043, 1032) [Vas flags]                         SS: 2\n",
      "(0043, 1033) [Neg_scanspacing]                   FL: 0.0\n",
      "(0043, 1034) [Offset Frequency]                  IS: '0'\n",
      "(0043, 1035) [User_usage_tag]                    UL: 0\n",
      "(0043, 1036) [User_fill_map_MSW]                 UL: 0\n",
      "(0043, 1037) [User_fill_map_LSW]                 UL: 0\n",
      "(0043, 1038) [User data 25...User data 48 {User4 FL: [0.0, 0.0, 0.0, 0.0, 0.0, 0.0, 0.0, 0.0, 0.0, 0.0, 0.0, 0.0, 0.0, 0.0, 0.0, 0.0, 0.0, 0.0, 0.0, 0.0, 0.0, 0.0, 0.0, 0.0]\n",
      "(0043, 1039) [Slop_int_6... slop_int_9]          IS: ['0', '0', '0', '0']\n",
      "(0043, 1060) [Slop_int_10...slop_int_17]         IS: ['0', '0', '0', '0', '0', '0', '0', '0']\n",
      "(0043, 1061) [Scanner Study Entity UID]          UI: 1.2.752.24.7.569530439.1801332\n",
      "(0043, 1062) [Scanner Study ID]                  SH: '48698'\n",
      "(0043, 106f) [Scanner Table Entry (single gradie DS: ['0', '0', '0', '0']\n",
      "(0043, 107d) [Recon mode flag word]              UN: b'\\x00\\x00'\n",
      "(0043, 1080) [Coil ID Data]                      UN: b'bv523rifp0t9r4h3pgqceh64jh7d2n2d\\\\7e00000010a4650f '\n",
      "(0043, 1081) [GE Coil Name]                      UN: b'GE_HEAD '\n",
      "(0043, 1082) [System Configuration Information]  UN: b'SRMode=120\\\\GCoilType=2\\\\gradientAmp=8917\\\\lineFreq=60\\\\RFampType=10'\n",
      "(0043, 1083) [Asset R Factors]                   UN: b'1\\\\1 '\n",
      "(0043, 1084) [Additional Asset Data]             UN: b'10000\\\\0\\\\-1\\\\0\\\\ \\\\NO\\\\'\n",
      "(0043, 1089) [Governing Body, dB/dt, and SAR def UN: b'FDA\\\\IEC_NORMAL\\\\IEC_NORMAL '\n",
      "(0043, 108a) [Private In-Plane Phase Encoding Di UN: b'ROW '\n",
      "(0043, 1090) [SAR Definition]                    UN: b'WHOLE_BODY_6_MIN\\\\LOCAL_PEAK_6_MIN\\\\PARTIAL_BODY_6MIN\\\\HEAD_AVG_6_MIN'\n",
      "(0043, 1091) [SAR value]                         UN: b'0.008956\\\\0.523675\\\\0.20947\\\\0.20947 '\n",
      "(0043, 1095) [Prescan Reuse String]              UN: b'RN/s0 '\n",
      "(0043, 1096) [Content Qualification]             UN: b'PRODUCT '\n",
      "(0043, 1097) [Image Filtering Parameters]        UN: b'\\\\\\\\0\\\\0\\\\0\\\\100\\\\0\\\\0\\\\rev=1;a=75;b=2;c=32;d=8;e=3;f=2;g=1;h=0 '\n",
      "(7fe0, 0010) Pixel Data                          OW: Array of 131072 bytes\n"
     ]
    }
   ],
   "source": [
    "ex = os.listdir(all_files_path[0])[0]\n",
    "sample = pydicom.read_file(os.path.join(all_files_path[0], ex))\n",
    "print(sample)"
   ]
  },
  {
   "cell_type": "code",
   "execution_count": 9,
   "metadata": {},
   "outputs": [
    {
     "data": {
      "text/plain": [
       "(0019, 109d) [Pulse Sequence Date]               DT: '20100224074652'"
      ]
     },
     "execution_count": 9,
     "metadata": {},
     "output_type": "execute_result"
    }
   ],
   "source": [
    "sample[('0019', '109d')]"
   ]
  },
  {
   "cell_type": "code",
   "execution_count": 10,
   "metadata": {},
   "outputs": [
    {
     "data": {
      "text/plain": [
       "'3 PLANE LOC'"
      ]
     },
     "execution_count": 10,
     "metadata": {},
     "output_type": "execute_result"
    }
   ],
   "source": [
    "sample.SeriesDescription"
   ]
  },
  {
   "cell_type": "code",
   "execution_count": null,
   "metadata": {},
   "outputs": [],
   "source": []
  },
  {
   "cell_type": "markdown",
   "metadata": {},
   "source": [
    "### Extract fields from DCM files"
   ]
  },
  {
   "cell_type": "code",
   "execution_count": 11,
   "metadata": {
    "scrolled": true
   },
   "outputs": [
    {
     "data": {
      "application/vnd.jupyter.widget-view+json": {
       "model_id": "133571ef941e45daa0afcf5d94f50a4e",
       "version_major": 2,
       "version_minor": 0
      },
      "text/plain": [
       "HBox(children=(IntProgress(value=0, max=29394), HTML(value='')))"
      ]
     },
     "metadata": {},
     "output_type": "display_data"
    },
    {
     "name": "stdout",
     "output_type": "stream",
     "text": [
      "\n"
     ]
    },
    {
     "ename": "KeyboardInterrupt",
     "evalue": "",
     "output_type": "error",
     "traceback": [
      "\u001b[0;31m---------------------------------------------------------------------------\u001b[0m",
      "\u001b[0;31mKeyboardInterrupt\u001b[0m                         Traceback (most recent call last)",
      "\u001b[0;32m<ipython-input-11-dfc2820326fc>\u001b[0m in \u001b[0;36m<module>\u001b[0;34m()\u001b[0m\n\u001b[1;32m      3\u001b[0m     \u001b[0mstudy\u001b[0m \u001b[0;34m=\u001b[0m \u001b[0mraw_file\u001b[0m\u001b[0;34m.\u001b[0m\u001b[0mstrip\u001b[0m\u001b[0;34m(\u001b[0m\u001b[0;34m)\u001b[0m\u001b[0;34m.\u001b[0m\u001b[0msplit\u001b[0m\u001b[0;34m(\u001b[0m\u001b[0;34m'/'\u001b[0m\u001b[0;34m)\u001b[0m\u001b[0;34m[\u001b[0m\u001b[0;34m-\u001b[0m\u001b[0;36m2\u001b[0m\u001b[0;34m]\u001b[0m\u001b[0;34m\u001b[0m\u001b[0m\n\u001b[1;32m      4\u001b[0m     \u001b[0;32mtry\u001b[0m\u001b[0;34m:\u001b[0m\u001b[0;34m\u001b[0m\u001b[0m\n\u001b[0;32m----> 5\u001b[0;31m         \u001b[0mpatient_id\u001b[0m\u001b[0;34m,\u001b[0m \u001b[0mview\u001b[0m\u001b[0;34m,\u001b[0m \u001b[0mmodality\u001b[0m\u001b[0;34m,\u001b[0m \u001b[0mdate\u001b[0m\u001b[0;34m,\u001b[0m \u001b[0mthickness\u001b[0m\u001b[0;34m,\u001b[0m \u001b[0mrows\u001b[0m\u001b[0;34m,\u001b[0m            \u001b[0mcolumns\u001b[0m\u001b[0;34m,\u001b[0m \u001b[0mnb_dicoms\u001b[0m\u001b[0;34m,\u001b[0m \u001b[0mdescription\u001b[0m \u001b[0;34m=\u001b[0m \u001b[0mcollect_info_patient_folder\u001b[0m\u001b[0;34m(\u001b[0m\u001b[0mraw_file\u001b[0m\u001b[0;34m)\u001b[0m\u001b[0;34m\u001b[0m\u001b[0m\n\u001b[0m\u001b[1;32m      6\u001b[0m     \u001b[0;32mexcept\u001b[0m \u001b[0mException\u001b[0m \u001b[0;32mas\u001b[0m \u001b[0me\u001b[0m\u001b[0;34m:\u001b[0m\u001b[0;34m\u001b[0m\u001b[0m\n\u001b[1;32m      7\u001b[0m         \u001b[0mprint\u001b[0m\u001b[0;34m(\u001b[0m\u001b[0me\u001b[0m\u001b[0;34m)\u001b[0m\u001b[0;34m\u001b[0m\u001b[0m\n",
      "\u001b[0;32m~/research/romain/utils/classify_utils.py\u001b[0m in \u001b[0;36mcollect_info_patient_folder\u001b[0;34m(patient_folder)\u001b[0m\n\u001b[1;32m     58\u001b[0m \u001b[0;34m\u001b[0m\u001b[0m\n\u001b[1;32m     59\u001b[0m \u001b[0;32mdef\u001b[0m \u001b[0mcollect_info_patient_folder\u001b[0m\u001b[0;34m(\u001b[0m\u001b[0mpatient_folder\u001b[0m\u001b[0;34m)\u001b[0m\u001b[0;34m:\u001b[0m\u001b[0;34m\u001b[0m\u001b[0m\n\u001b[0;32m---> 60\u001b[0;31m     \u001b[0mdicoms\u001b[0m \u001b[0;34m=\u001b[0m \u001b[0mos\u001b[0m\u001b[0;34m.\u001b[0m\u001b[0mlistdir\u001b[0m\u001b[0;34m(\u001b[0m\u001b[0mpatient_folder\u001b[0m\u001b[0;34m)\u001b[0m\u001b[0;34m\u001b[0m\u001b[0m\n\u001b[0m\u001b[1;32m     61\u001b[0m     \u001b[0mdicoms\u001b[0m \u001b[0;34m=\u001b[0m \u001b[0;34m[\u001b[0m\u001b[0mdic\u001b[0m \u001b[0;32mfor\u001b[0m \u001b[0mdic\u001b[0m \u001b[0;32min\u001b[0m \u001b[0mdicoms\u001b[0m \u001b[0;32mif\u001b[0m \u001b[0mdic\u001b[0m\u001b[0;34m[\u001b[0m\u001b[0;34m-\u001b[0m\u001b[0;36m4\u001b[0m\u001b[0;34m:\u001b[0m\u001b[0;34m]\u001b[0m \u001b[0;34m==\u001b[0m \u001b[0;34m'.dcm'\u001b[0m\u001b[0;34m]\u001b[0m\u001b[0;34m\u001b[0m\u001b[0m\n\u001b[1;32m     62\u001b[0m     \u001b[0msample\u001b[0m \u001b[0;34m=\u001b[0m \u001b[0mdicoms\u001b[0m\u001b[0;34m[\u001b[0m\u001b[0;36m0\u001b[0m\u001b[0;34m]\u001b[0m\u001b[0;34m\u001b[0m\u001b[0m\n",
      "\u001b[0;31mKeyboardInterrupt\u001b[0m: "
     ]
    }
   ],
   "source": [
    "extracted_fields = []\n",
    "for k, raw_file in enumerate(tqdm_notebook(all_files_path)):\n",
    "    study = raw_file.strip().split('/')[-2]\n",
    "    try:\n",
    "        patient_id, view, modality, date, thickness, rows,\\\n",
    "            columns, nb_dicoms, description = collect_info_patient_folder(raw_file)\n",
    "    except Exception as e:\n",
    "        print(e)\n",
    "        continue\n",
    "    full_id = os.path.join(study, patient_id)\n",
    "    extracted_fields.append({'study': study, 'patient_id': patient_id, 'full_id': full_id,\n",
    "                             'description': description, 'view': view, 'modality': modality, \n",
    "                             'nb_dicoms': nb_dicoms, 'date': date, 'thickness': thickness, 'rows': rows,\n",
    "                             'columns': columns, 'raw_path': raw_file})\n",
    "images_fields0 = pd.DataFrame(extracted_fields)"
   ]
  },
  {
   "cell_type": "code",
   "execution_count": 18,
   "metadata": {},
   "outputs": [],
   "source": [
    "images_fields0.to_csv(\"images_fields.csv\")"
   ]
  },
  {
   "cell_type": "markdown",
   "metadata": {},
   "source": [
    "Load from csv"
   ]
  },
  {
   "cell_type": "code",
   "execution_count": 3,
   "metadata": {},
   "outputs": [],
   "source": [
    "images_fields = pd.read_csv(\"images_fields.csv\")"
   ]
  },
  {
   "cell_type": "code",
   "execution_count": 4,
   "metadata": {},
   "outputs": [
    {
     "name": "stdout",
     "output_type": "stream",
     "text": [
      "541 patients\n"
     ]
    }
   ],
   "source": [
    "print(len(images_fields.patient_id.unique()), 'patients')"
   ]
  },
  {
   "cell_type": "code",
   "execution_count": 5,
   "metadata": {},
   "outputs": [
    {
     "data": {
      "text/plain": [
       "29394"
      ]
     },
     "execution_count": 5,
     "metadata": {},
     "output_type": "execute_result"
    }
   ],
   "source": [
    "len(images_fields)"
   ]
  },
  {
   "cell_type": "code",
   "execution_count": 6,
   "metadata": {},
   "outputs": [
    {
     "data": {
      "text/html": [
       "<div>\n",
       "<style scoped>\n",
       "    .dataframe tbody tr th:only-of-type {\n",
       "        vertical-align: middle;\n",
       "    }\n",
       "\n",
       "    .dataframe tbody tr th {\n",
       "        vertical-align: top;\n",
       "    }\n",
       "\n",
       "    .dataframe thead th {\n",
       "        text-align: right;\n",
       "    }\n",
       "</style>\n",
       "<table border=\"1\" class=\"dataframe\">\n",
       "  <thead>\n",
       "    <tr style=\"text-align: right;\">\n",
       "      <th></th>\n",
       "      <th>Unnamed: 0</th>\n",
       "      <th>columns</th>\n",
       "      <th>date</th>\n",
       "      <th>description</th>\n",
       "      <th>full_id</th>\n",
       "      <th>modality</th>\n",
       "      <th>nb_dicoms</th>\n",
       "      <th>patient_id</th>\n",
       "      <th>raw_path</th>\n",
       "      <th>rows</th>\n",
       "      <th>study</th>\n",
       "      <th>thickness</th>\n",
       "      <th>view</th>\n",
       "    </tr>\n",
       "  </thead>\n",
       "  <tbody>\n",
       "    <tr>\n",
       "      <th>0</th>\n",
       "      <td>0</td>\n",
       "      <td>256</td>\n",
       "      <td>20101130.0</td>\n",
       "      <td>3 PLANE LOC</td>\n",
       "      <td>0101-01__Studies/727^1027^825^^</td>\n",
       "      <td>NaN</td>\n",
       "      <td>15</td>\n",
       "      <td>727^1027^825^^</td>\n",
       "      <td>/labs/gevaertlab/users/hackhack/RTOG/RTOG_dupl...</td>\n",
       "      <td>256</td>\n",
       "      <td>0101-01__Studies</td>\n",
       "      <td>5.0</td>\n",
       "      <td>NaN</td>\n",
       "    </tr>\n",
       "    <tr>\n",
       "      <th>1</th>\n",
       "      <td>1</td>\n",
       "      <td>256</td>\n",
       "      <td>20101130.0</td>\n",
       "      <td>AXIAL SPGR-BRAIN LAB</td>\n",
       "      <td>0101-01__Studies/727^1027^825^^</td>\n",
       "      <td>NaN</td>\n",
       "      <td>124</td>\n",
       "      <td>727^1027^825^^</td>\n",
       "      <td>/labs/gevaertlab/users/hackhack/RTOG/RTOG_dupl...</td>\n",
       "      <td>256</td>\n",
       "      <td>0101-01__Studies</td>\n",
       "      <td>1.6</td>\n",
       "      <td>axial</td>\n",
       "    </tr>\n",
       "    <tr>\n",
       "      <th>2</th>\n",
       "      <td>2</td>\n",
       "      <td>256</td>\n",
       "      <td>20101130.0</td>\n",
       "      <td>AXIAL SPGR-BRAIN LAB</td>\n",
       "      <td>0101-01__Studies/727^1027^825^^</td>\n",
       "      <td>NaN</td>\n",
       "      <td>124</td>\n",
       "      <td>727^1027^825^^</td>\n",
       "      <td>/labs/gevaertlab/users/hackhack/RTOG/RTOG_dupl...</td>\n",
       "      <td>256</td>\n",
       "      <td>0101-01__Studies</td>\n",
       "      <td>1.6</td>\n",
       "      <td>axial</td>\n",
       "    </tr>\n",
       "    <tr>\n",
       "      <th>3</th>\n",
       "      <td>3</td>\n",
       "      <td>256</td>\n",
       "      <td>20101130.0</td>\n",
       "      <td>DTI 25 directions 1000b</td>\n",
       "      <td>0101-01__Studies/727^1027^825^^</td>\n",
       "      <td>NaN</td>\n",
       "      <td>338</td>\n",
       "      <td>727^1027^825^^</td>\n",
       "      <td>/labs/gevaertlab/users/hackhack/RTOG/RTOG_dupl...</td>\n",
       "      <td>256</td>\n",
       "      <td>0101-01__Studies</td>\n",
       "      <td>5.0</td>\n",
       "      <td>NaN</td>\n",
       "    </tr>\n",
       "    <tr>\n",
       "      <th>4</th>\n",
       "      <td>4</td>\n",
       "      <td>512</td>\n",
       "      <td>20101130.0</td>\n",
       "      <td>SCREENSAVE</td>\n",
       "      <td>0101-01__Studies/727^1027^825^^</td>\n",
       "      <td>NaN</td>\n",
       "      <td>11</td>\n",
       "      <td>727^1027^825^^</td>\n",
       "      <td>/labs/gevaertlab/users/hackhack/RTOG/RTOG_dupl...</td>\n",
       "      <td>512</td>\n",
       "      <td>0101-01__Studies</td>\n",
       "      <td>5.0</td>\n",
       "      <td>NaN</td>\n",
       "    </tr>\n",
       "  </tbody>\n",
       "</table>\n",
       "</div>"
      ],
      "text/plain": [
       "   Unnamed: 0  columns        date              description  \\\n",
       "0           0      256  20101130.0              3 PLANE LOC   \n",
       "1           1      256  20101130.0     AXIAL SPGR-BRAIN LAB   \n",
       "2           2      256  20101130.0     AXIAL SPGR-BRAIN LAB   \n",
       "3           3      256  20101130.0  DTI 25 directions 1000b   \n",
       "4           4      512  20101130.0               SCREENSAVE   \n",
       "\n",
       "                           full_id modality  nb_dicoms      patient_id  \\\n",
       "0  0101-01__Studies/727^1027^825^^      NaN         15  727^1027^825^^   \n",
       "1  0101-01__Studies/727^1027^825^^      NaN        124  727^1027^825^^   \n",
       "2  0101-01__Studies/727^1027^825^^      NaN        124  727^1027^825^^   \n",
       "3  0101-01__Studies/727^1027^825^^      NaN        338  727^1027^825^^   \n",
       "4  0101-01__Studies/727^1027^825^^      NaN         11  727^1027^825^^   \n",
       "\n",
       "                                            raw_path  rows             study  \\\n",
       "0  /labs/gevaertlab/users/hackhack/RTOG/RTOG_dupl...   256  0101-01__Studies   \n",
       "1  /labs/gevaertlab/users/hackhack/RTOG/RTOG_dupl...   256  0101-01__Studies   \n",
       "2  /labs/gevaertlab/users/hackhack/RTOG/RTOG_dupl...   256  0101-01__Studies   \n",
       "3  /labs/gevaertlab/users/hackhack/RTOG/RTOG_dupl...   256  0101-01__Studies   \n",
       "4  /labs/gevaertlab/users/hackhack/RTOG/RTOG_dupl...   512  0101-01__Studies   \n",
       "\n",
       "   thickness   view  \n",
       "0        5.0    NaN  \n",
       "1        1.6  axial  \n",
       "2        1.6  axial  \n",
       "3        5.0    NaN  \n",
       "4        5.0    NaN  "
      ]
     },
     "execution_count": 6,
     "metadata": {},
     "output_type": "execute_result"
    }
   ],
   "source": [
    "images_fields.head()"
   ]
  },
  {
   "cell_type": "code",
   "execution_count": null,
   "metadata": {},
   "outputs": [],
   "source": []
  }
 ],
 "metadata": {
  "kernelspec": {
   "display_name": "Python 3",
   "language": "python",
   "name": "python3"
  },
  "language_info": {
   "codemirror_mode": {
    "name": "ipython",
    "version": 3
   },
   "file_extension": ".py",
   "mimetype": "text/x-python",
   "name": "python",
   "nbconvert_exporter": "python",
   "pygments_lexer": "ipython3",
   "version": "3.6.5"
  }
 },
 "nbformat": 4,
 "nbformat_minor": 2
}
