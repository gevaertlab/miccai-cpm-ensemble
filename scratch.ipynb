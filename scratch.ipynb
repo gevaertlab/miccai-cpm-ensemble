{
 "cells": [
  {
   "cell_type": "code",
   "execution_count": 1,
   "metadata": {},
   "outputs": [],
   "source": [
    "import os\n",
    "\n",
    "import numpy as np\n",
    "\n",
    "from utils.data_utils import get_hgg_and_lgg_patients\n",
    "from utils.data_utils import im_path_to_arr"
   ]
  },
  {
   "cell_type": "code",
   "execution_count": 8,
   "metadata": {},
   "outputs": [],
   "source": [
    "val_path = '/local-scratch/romains_scratch/rembrandt/train'\n",
    "hgg, lgg = get_hgg_and_lgg_patients(val_path)"
   ]
  },
  {
   "cell_type": "code",
   "execution_count": 9,
   "metadata": {},
   "outputs": [
    {
     "name": "stdout",
     "output_type": "stream",
     "text": [
      "21\n"
     ]
    }
   ],
   "source": [
    "count = 0\n",
    "for pat in os.listdir(val_path):\n",
    "    pat_path = os.path.join(val_path, pat)\n",
    "    if pat_path.encode('utf-8') in lgg:\n",
    "        count += 1\n",
    "print(count)\n",
    "#        for files in os.listdir(pat_path):\n",
    "#            if files == 'seg.nii':\n",
    "#                lab = im_path_to_arr(os.path.join(pat_path, files))\n",
    "#                print(pat, np.unique(lab))"
   ]
  }
 ],
 "metadata": {
  "kernelspec": {
   "display_name": "Python 3",
   "language": "python",
   "name": "python3"
  },
  "language_info": {
   "codemirror_mode": {
    "name": "ipython",
    "version": 3
   },
   "file_extension": ".py",
   "mimetype": "text/x-python",
   "name": "python",
   "nbconvert_exporter": "python",
   "pygments_lexer": "ipython3",
   "version": "3.6.3"
  }
 },
 "nbformat": 4,
 "nbformat_minor": 2
}
