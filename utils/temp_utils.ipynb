{
 "cells": [
  {
   "cell_type": "code",
   "execution_count": 1,
   "metadata": {
    "collapsed": true
   },
   "outputs": [],
   "source": [
    "import numpy as np\n",
    "\n",
    "import os\n",
    "import shutil\n",
    "\n",
    "from random import shuffle\n",
    "\n",
    "from data_utils import im_path_to_arr, arr_to_im_path"
   ]
  },
  {
   "cell_type": "code",
   "execution_count": 31,
   "metadata": {
    "collapsed": true
   },
   "outputs": [],
   "source": [
    "im_path = '/share/PI/ogevaert/raghav/brats_hgg_full/train/brats_tcia_pat208_0001/flair.mha'\n",
    "\n",
    "arr = im_path_to_arr(im_path).astype(np.float32)"
   ]
  },
  {
   "cell_type": "code",
   "execution_count": 8,
   "metadata": {},
   "outputs": [
    {
     "name": "stdout",
     "output_type": "stream",
     "text": [
      "0\n",
      "4\n",
      "8\n"
     ]
    }
   ],
   "source": [
    "for i in range(0,10,4):\n",
    "    print(i)"
   ]
  },
  {
   "cell_type": "code",
   "execution_count": 2,
   "metadata": {},
   "outputs": [
    {
     "name": "stdout",
     "output_type": "stream",
     "text": [
      "[-0.89875228  0.19133099  1.26208464]\n"
     ]
    }
   ],
   "source": [
    "print(np.random.randn(3))"
   ]
  },
  {
   "cell_type": "code",
   "execution_count": 32,
   "metadata": {},
   "outputs": [
    {
     "name": "stdout",
     "output_type": "stream",
     "text": [
      "(155, 240, 240)\n",
      "[ 0.21694742  0.80843538  0.32679519 ...,  0.29299587  0.41129348\n",
      "  0.16624846]\n",
      "6.02198\n",
      "-2.36025\n"
     ]
    }
   ],
   "source": [
    "print arr.shape\n",
    "print arr[arr>0]\n",
    "print np.max(arr)\n",
    "print np.min(arr)"
   ]
  },
  {
   "cell_type": "code",
   "execution_count": 2,
   "metadata": {},
   "outputs": [
    {
     "name": "stdout",
     "output_type": "stream",
     "text": [
      "005\n",
      "01\n",
      "015\n",
      "02\n"
     ]
    }
   ],
   "source": [
    "fracs = [0.05, 0.1, 0.15, 0.2]\n",
    "\n",
    "for frac in fracs:\n",
    "\n",
    "    frac_str = ''.join(str(frac).split('.'))\n",
    "    print frac_str"
   ]
  }
 ],
 "metadata": {
  "kernelspec": {
   "display_name": "Python 2",
   "language": "python",
   "name": "python2"
  },
  "language_info": {
   "codemirror_mode": {
    "name": "ipython",
    "version": 2
   },
   "file_extension": ".py",
   "mimetype": "text/x-python",
   "name": "python",
   "nbconvert_exporter": "python",
   "pygments_lexer": "ipython2",
   "version": "2.7.5"
  }
 },
 "nbformat": 4,
 "nbformat_minor": 2
}
